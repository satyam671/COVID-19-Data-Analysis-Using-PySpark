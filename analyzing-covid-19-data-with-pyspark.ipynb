{
 "cells": [
  {
   "cell_type": "markdown",
   "id": "aae93169",
   "metadata": {
    "papermill": {
     "duration": 0.071423,
     "end_time": "2022-04-10T14:01:23.244869",
     "exception": false,
     "start_time": "2022-04-10T14:01:23.173446",
     "status": "completed"
    },
    "tags": []
   },
   "source": [
    "<a id='start'></a>\n",
    "\n",
    "# Analyzing Covid-19 Data with PySpark\n",
    "\n",
    "---"
   ]
  },
  {
   "cell_type": "markdown",
   "id": "b188f44c",
   "metadata": {
    "papermill": {
     "duration": 0.06892,
     "end_time": "2022-04-10T14:01:23.383329",
     "exception": false,
     "start_time": "2022-04-10T14:01:23.314409",
     "status": "completed"
    },
    "tags": []
   },
   "source": [
    "<a id='sec0'></a>\n",
    "\n",
    "## 0. Introduction\n",
    "\n",
    "The goal of this project is the loading, preprocessing and exploratory data analysis of SARS-Cov-2 data on a global scale using [PySpark](https://spark.apache.org/docs/latest/api/python/), Apache Spark's Python API. The [dataset](https://github.com/owid/covid-19-data/blob/master/public/data/README.md) was curated and is maintained by [Our World in Data](https://ourworldindata.org/coronavirus) (OWiD). Typically, Spark is utilized when dealing with much larger datasets than the one seen here. In fact, all the tasks performed below could be performed using Pandas, in a somewhat cleaner and more familiar fashion. Nonetheless, the purpose of this notebook is not the analysis itself (especially since Covid-19 data have been extensively analyzed before), but the introduction of the reader to PySpark. In this sense, the dataset is more of a workhorse serving an educational purpose, so Pandas will be used only when absolutely necessary."
   ]
  },
  {
   "cell_type": "markdown",
   "id": "03deff04",
   "metadata": {
    "papermill": {
     "duration": 0.067129,
     "end_time": "2022-04-10T14:01:23.606996",
     "exception": false,
     "start_time": "2022-04-10T14:01:23.539867",
     "status": "completed"
    },
    "tags": []
   },
   "source": [
    "<a id='sec1'></a>\n",
    "\n",
    "## 1. Data Loading & Overview\n",
    "\n",
    "The present notebook was written in a local environment using Jupyter Lab. As always, in case any of the libraries used in the present notebook is not installed in the environment where the reader intends to run it, please ensure their proper installation beforehand. The following command downloads the dataset from the corresponding GitHub repository."
   ]
  },
  {
   "cell_type": "code",
   "execution_count": 1,
   "id": "8743c77b",
   "metadata": {
    "execution": {
     "iopub.execute_input": "2022-04-10T14:01:23.756904Z",
     "iopub.status.busy": "2022-04-10T14:01:23.756167Z",
     "iopub.status.idle": "2022-04-10T14:02:12.648845Z",
     "shell.execute_reply": "2022-04-10T14:02:12.647776Z",
     "shell.execute_reply.started": "2022-04-10T13:28:03.351233Z"
    },
    "papermill": {
     "duration": 48.974198,
     "end_time": "2022-04-10T14:02:12.649037",
     "exception": false,
     "start_time": "2022-04-10T14:01:23.674839",
     "status": "completed"
    },
    "tags": []
   },
   "outputs": [
    {
     "name": "stdout",
     "output_type": "stream",
     "text": [
      "Collecting pyspark\r\n",
      "  Downloading pyspark-3.2.1.tar.gz (281.4 MB)\r\n",
      "\u001b[K     |████████████████████████████████| 281.4 MB 30 kB/s \r\n",
      "\u001b[?25hCollecting py4j==0.10.9.3\r\n",
      "  Downloading py4j-0.10.9.3-py2.py3-none-any.whl (198 kB)\r\n",
      "\u001b[K     |████████████████████████████████| 198 kB 31.9 MB/s \r\n",
      "\u001b[?25hBuilding wheels for collected packages: pyspark\r\n",
      "  Building wheel for pyspark (setup.py) ... \u001b[?25l-\b \b\\\b \b|\b \b/\b \b-\b \b\\\b \b|\b \b/\b \b-\b \b\\\b \b|\b \b/\b \b-\b \b\\\b \b|\b \b/\b \b-\b \b\\\b \b|\b \b/\b \b-\b \b\\\b \b|\b \b/\b \b-\b \b\\\b \b|\b \b/\b \b-\b \b\\\b \b|\b \b/\b \b-\b \b\\\b \b|\b \b/\b \b-\b \b\\\b \b|\b \b/\b \b-\b \b\\\b \b|\b \b/\b \b-\b \b\\\b \b|\b \b/\b \b-\b \b\\\b \b|\b \b/\b \b-\b \b\\\b \b|\b \b/\b \b-\b \b\\\b \b|\b \b/\b \b-\b \bdone\r\n",
      "\u001b[?25h  Created wheel for pyspark: filename=pyspark-3.2.1-py2.py3-none-any.whl size=281853642 sha256=ede66e36a6e40ca9a3d6ce73a552588e3d117402922c41e77f61cefd5ba329b6\r\n",
      "  Stored in directory: /root/.cache/pip/wheels/9f/f5/07/7cd8017084dce4e93e84e92efd1e1d5334db05f2e83bcef74f\r\n",
      "Successfully built pyspark\r\n",
      "Installing collected packages: py4j, pyspark\r\n",
      "Successfully installed py4j-0.10.9.3 pyspark-3.2.1\r\n",
      "\u001b[33mWARNING: Running pip as the 'root' user can result in broken permissions and conflicting behaviour with the system package manager. It is recommended to use a virtual environment instead: https://pip.pypa.io/warnings/venv\u001b[0m\r\n"
     ]
    }
   ],
   "source": [
    "import warnings\n",
    "warnings.filterwarnings(\"ignore\")\n",
    "\n",
    "!pip install pyspark\n",
    "\n",
    "file = '../input/our-world-in-data-covid19-dataset/owid-covid-data.csv'"
   ]
  },
  {
   "cell_type": "markdown",
   "id": "d1068911",
   "metadata": {
    "papermill": {
     "duration": 0.203568,
     "end_time": "2022-04-10T14:02:13.057396",
     "exception": false,
     "start_time": "2022-04-10T14:02:12.853828",
     "status": "completed"
    },
    "tags": []
   },
   "source": [
    "After initializing a PySpark session, the data are transformed into a PySpark DataFrame."
   ]
  },
  {
   "cell_type": "code",
   "execution_count": 2,
   "id": "c391fdef",
   "metadata": {
    "execution": {
     "iopub.execute_input": "2022-04-10T14:02:13.469857Z",
     "iopub.status.busy": "2022-04-10T14:02:13.466040Z",
     "iopub.status.idle": "2022-04-10T14:02:27.905059Z",
     "shell.execute_reply": "2022-04-10T14:02:27.904273Z",
     "shell.execute_reply.started": "2022-04-10T13:29:00.682614Z"
    },
    "papermill": {
     "duration": 14.647296,
     "end_time": "2022-04-10T14:02:27.905265",
     "exception": false,
     "start_time": "2022-04-10T14:02:13.257969",
     "status": "completed"
    },
    "tags": []
   },
   "outputs": [
    {
     "name": "stderr",
     "output_type": "stream",
     "text": [
      "WARNING: An illegal reflective access operation has occurred\n",
      "WARNING: Illegal reflective access by org.apache.spark.unsafe.Platform (file:/opt/conda/lib/python3.7/site-packages/pyspark/jars/spark-unsafe_2.12-3.2.1.jar) to constructor java.nio.DirectByteBuffer(long,int)\n",
      "WARNING: Please consider reporting this to the maintainers of org.apache.spark.unsafe.Platform\n",
      "WARNING: Use --illegal-access=warn to enable warnings of further illegal reflective access operations\n",
      "WARNING: All illegal access operations will be denied in a future release\n",
      "Using Spark's default log4j profile: org/apache/spark/log4j-defaults.properties\n",
      "Setting default log level to \"WARN\".\n",
      "To adjust logging level use sc.setLogLevel(newLevel). For SparkR, use setLogLevel(newLevel).\n",
      "22/04/10 14:02:16 WARN NativeCodeLoader: Unable to load native-hadoop library for your platform... using builtin-java classes where applicable\n",
      "                                                                                \r"
     ]
    }
   ],
   "source": [
    "import pyspark\n",
    "from pyspark.sql import SparkSession, SQLContext\n",
    "\n",
    "spark = SparkSession.builder.appName(\"Covid Data Mining\").config('spark.sql.debug.maxToStringFields', 2000).getOrCreate()\n",
    "full_df = spark.read.csv(file, header=True, inferSchema=True)"
   ]
  },
  {
   "cell_type": "markdown",
   "id": "ad29faa3",
   "metadata": {
    "papermill": {
     "duration": 0.201417,
     "end_time": "2022-04-10T14:02:28.310347",
     "exception": false,
     "start_time": "2022-04-10T14:02:28.108930",
     "status": "completed"
    },
    "tags": []
   },
   "source": [
    "Let's first identify the total number of samples, as well as the number of each sample's features."
   ]
  },
  {
   "cell_type": "code",
   "execution_count": 3,
   "id": "23513d15",
   "metadata": {
    "execution": {
     "iopub.execute_input": "2022-04-10T14:02:28.721113Z",
     "iopub.status.busy": "2022-04-10T14:02:28.720427Z",
     "iopub.status.idle": "2022-04-10T14:02:29.880959Z",
     "shell.execute_reply": "2022-04-10T14:02:29.879140Z",
     "shell.execute_reply.started": "2022-04-10T13:29:13.643361Z"
    },
    "papermill": {
     "duration": 1.366975,
     "end_time": "2022-04-10T14:02:29.881394",
     "exception": false,
     "start_time": "2022-04-10T14:02:28.514419",
     "status": "completed"
    },
    "tags": []
   },
   "outputs": [
    {
     "name": "stdout",
     "output_type": "stream",
     "text": [
      "The total number of samples is 176224, with each sample corresponding to 67 features.\n"
     ]
    }
   ],
   "source": [
    "print(f\"The total number of samples is {full_df.count()}, with each sample corresponding to {len(full_df.columns)} features.\")"
   ]
  },
  {
   "cell_type": "markdown",
   "id": "ac105727",
   "metadata": {
    "papermill": {
     "duration": 0.201125,
     "end_time": "2022-04-10T14:02:30.306828",
     "exception": false,
     "start_time": "2022-04-10T14:02:30.105703",
     "status": "completed"
    },
    "tags": []
   },
   "source": [
    "In order to identify each feature, as well as its type, `full_df.dtypes` can be used. Alternatively, they are available as part of the Schema's information via the following:"
   ]
  },
  {
   "cell_type": "code",
   "execution_count": 4,
   "id": "85769d08",
   "metadata": {
    "execution": {
     "iopub.execute_input": "2022-04-10T14:02:30.720380Z",
     "iopub.status.busy": "2022-04-10T14:02:30.719348Z",
     "iopub.status.idle": "2022-04-10T14:02:30.726919Z",
     "shell.execute_reply": "2022-04-10T14:02:30.726014Z",
     "shell.execute_reply.started": "2022-04-10T13:29:14.793693Z"
    },
    "papermill": {
     "duration": 0.212941,
     "end_time": "2022-04-10T14:02:30.727083",
     "exception": false,
     "start_time": "2022-04-10T14:02:30.514142",
     "status": "completed"
    },
    "tags": []
   },
   "outputs": [
    {
     "name": "stdout",
     "output_type": "stream",
     "text": [
      "root\n",
      " |-- iso_code: string (nullable = true)\n",
      " |-- continent: string (nullable = true)\n",
      " |-- location: string (nullable = true)\n",
      " |-- date: string (nullable = true)\n",
      " |-- total_cases: double (nullable = true)\n",
      " |-- new_cases: double (nullable = true)\n",
      " |-- new_cases_smoothed: double (nullable = true)\n",
      " |-- total_deaths: double (nullable = true)\n",
      " |-- new_deaths: double (nullable = true)\n",
      " |-- new_deaths_smoothed: double (nullable = true)\n",
      " |-- total_cases_per_million: double (nullable = true)\n",
      " |-- new_cases_per_million: double (nullable = true)\n",
      " |-- new_cases_smoothed_per_million: double (nullable = true)\n",
      " |-- total_deaths_per_million: double (nullable = true)\n",
      " |-- new_deaths_per_million: double (nullable = true)\n",
      " |-- new_deaths_smoothed_per_million: double (nullable = true)\n",
      " |-- reproduction_rate: double (nullable = true)\n",
      " |-- icu_patients: double (nullable = true)\n",
      " |-- icu_patients_per_million: double (nullable = true)\n",
      " |-- hosp_patients: double (nullable = true)\n",
      " |-- hosp_patients_per_million: double (nullable = true)\n",
      " |-- weekly_icu_admissions: double (nullable = true)\n",
      " |-- weekly_icu_admissions_per_million: double (nullable = true)\n",
      " |-- weekly_hosp_admissions: double (nullable = true)\n",
      " |-- weekly_hosp_admissions_per_million: double (nullable = true)\n",
      " |-- total_tests: double (nullable = true)\n",
      " |-- new_tests: double (nullable = true)\n",
      " |-- total_tests_per_thousand: double (nullable = true)\n",
      " |-- new_tests_per_thousand: double (nullable = true)\n",
      " |-- new_tests_smoothed: double (nullable = true)\n",
      " |-- new_tests_smoothed_per_thousand: double (nullable = true)\n",
      " |-- positive_rate: double (nullable = true)\n",
      " |-- tests_per_case: double (nullable = true)\n",
      " |-- tests_units: string (nullable = true)\n",
      " |-- total_vaccinations: double (nullable = true)\n",
      " |-- people_vaccinated: double (nullable = true)\n",
      " |-- people_fully_vaccinated: double (nullable = true)\n",
      " |-- total_boosters: double (nullable = true)\n",
      " |-- new_vaccinations: double (nullable = true)\n",
      " |-- new_vaccinations_smoothed: double (nullable = true)\n",
      " |-- total_vaccinations_per_hundred: double (nullable = true)\n",
      " |-- people_vaccinated_per_hundred: double (nullable = true)\n",
      " |-- people_fully_vaccinated_per_hundred: double (nullable = true)\n",
      " |-- total_boosters_per_hundred: double (nullable = true)\n",
      " |-- new_vaccinations_smoothed_per_million: double (nullable = true)\n",
      " |-- new_people_vaccinated_smoothed: double (nullable = true)\n",
      " |-- new_people_vaccinated_smoothed_per_hundred: double (nullable = true)\n",
      " |-- stringency_index: double (nullable = true)\n",
      " |-- population: double (nullable = true)\n",
      " |-- population_density: double (nullable = true)\n",
      " |-- median_age: double (nullable = true)\n",
      " |-- aged_65_older: double (nullable = true)\n",
      " |-- aged_70_older: double (nullable = true)\n",
      " |-- gdp_per_capita: double (nullable = true)\n",
      " |-- extreme_poverty: double (nullable = true)\n",
      " |-- cardiovasc_death_rate: double (nullable = true)\n",
      " |-- diabetes_prevalence: double (nullable = true)\n",
      " |-- female_smokers: double (nullable = true)\n",
      " |-- male_smokers: double (nullable = true)\n",
      " |-- handwashing_facilities: double (nullable = true)\n",
      " |-- hospital_beds_per_thousand: double (nullable = true)\n",
      " |-- life_expectancy: double (nullable = true)\n",
      " |-- human_development_index: double (nullable = true)\n",
      " |-- excess_mortality_cumulative_absolute: double (nullable = true)\n",
      " |-- excess_mortality_cumulative: double (nullable = true)\n",
      " |-- excess_mortality: double (nullable = true)\n",
      " |-- excess_mortality_cumulative_per_million: double (nullable = true)\n",
      "\n"
     ]
    }
   ],
   "source": [
    "full_df.printSchema()"
   ]
  },
  {
   "cell_type": "markdown",
   "id": "f335019e",
   "metadata": {
    "papermill": {
     "duration": 0.215587,
     "end_time": "2022-04-10T14:02:31.146890",
     "exception": false,
     "start_time": "2022-04-10T14:02:30.931303",
     "status": "completed"
    },
    "tags": []
   },
   "source": [
    "Most of the features are `double` types, i.e. numerical data. However, nominal features are also present:\n",
    "\n",
    "- `iso_code`: a string corresponding to each country's code.\n",
    "- `location`: a string corresponding to each location's name.\n",
    "- `continent`: a string corresponding to the continent where the location belongs.\n",
    "- `tests_units`: a string corresponding to the units used in each location in order to count the number of tests (more details below).\n",
    "\n",
    "There's also the `date` feature, the type of which is `string`, however it will be properly transformed into a datetime object in what follows. The following command gives some examples for each of these features."
   ]
  },
  {
   "cell_type": "code",
   "execution_count": 5,
   "id": "10b6ba9d",
   "metadata": {
    "execution": {
     "iopub.execute_input": "2022-04-10T14:02:31.567716Z",
     "iopub.status.busy": "2022-04-10T14:02:31.566930Z",
     "iopub.status.idle": "2022-04-10T14:02:31.932254Z",
     "shell.execute_reply": "2022-04-10T14:02:31.933218Z",
     "shell.execute_reply.started": "2022-04-10T13:29:14.806198Z"
    },
    "papermill": {
     "duration": 0.578927,
     "end_time": "2022-04-10T14:02:31.933506",
     "exception": false,
     "start_time": "2022-04-10T14:02:31.354579",
     "status": "completed"
    },
    "tags": []
   },
   "outputs": [
    {
     "name": "stdout",
     "output_type": "stream",
     "text": [
      "+--------+-----------+---------+----------+-----------+\n",
      "|iso_code|   location|continent|      date|tests_units|\n",
      "+--------+-----------+---------+----------+-----------+\n",
      "|     AFG|Afghanistan|     Asia|2020-02-24|       null|\n",
      "|     AFG|Afghanistan|     Asia|2020-02-25|       null|\n",
      "|     AFG|Afghanistan|     Asia|2020-02-26|       null|\n",
      "|     AFG|Afghanistan|     Asia|2020-02-27|       null|\n",
      "|     AFG|Afghanistan|     Asia|2020-02-28|       null|\n",
      "+--------+-----------+---------+----------+-----------+\n",
      "only showing top 5 rows\n",
      "\n"
     ]
    }
   ],
   "source": [
    "full_df.select(\"iso_code\",\"location\",\"continent\",\"date\",\"tests_units\").show(5)"
   ]
  },
  {
   "cell_type": "markdown",
   "id": "a1632137",
   "metadata": {
    "papermill": {
     "duration": 0.201522,
     "end_time": "2022-04-10T14:02:32.395590",
     "exception": false,
     "start_time": "2022-04-10T14:02:32.194068",
     "status": "completed"
    },
    "tags": []
   },
   "source": [
    "Note that the `tests_units` column in the above command contains several null values, indicating that many of them may appear in the present dataset. We may import `functions` from `pyspark.sql`, which allows us to perform aggregations (among other things) and count the exact number of `null` values for each feature. The results can be stored in a dictionary, which can then be sorted to present the results in an orderly fashion."
   ]
  },
  {
   "cell_type": "code",
   "execution_count": 6,
   "id": "967ca2d9",
   "metadata": {
    "execution": {
     "iopub.execute_input": "2022-04-10T14:02:32.813466Z",
     "iopub.status.busy": "2022-04-10T14:02:32.812720Z",
     "iopub.status.idle": "2022-04-10T14:02:36.562239Z",
     "shell.execute_reply": "2022-04-10T14:02:36.562765Z",
     "shell.execute_reply.started": "2022-04-10T13:29:15.150138Z"
    },
    "papermill": {
     "duration": 3.963993,
     "end_time": "2022-04-10T14:02:36.562950",
     "exception": false,
     "start_time": "2022-04-10T14:02:32.598957",
     "status": "completed"
    },
    "tags": []
   },
   "outputs": [
    {
     "name": "stderr",
     "output_type": "stream",
     "text": [
      "                                                                                \r"
     ]
    },
    {
     "data": {
      "text/html": [
       "<div>\n",
       "<style scoped>\n",
       "    .dataframe tbody tr th:only-of-type {\n",
       "        vertical-align: middle;\n",
       "    }\n",
       "\n",
       "    .dataframe tbody tr th {\n",
       "        vertical-align: top;\n",
       "    }\n",
       "\n",
       "    .dataframe thead th {\n",
       "        text-align: right;\n",
       "    }\n",
       "</style>\n",
       "<table border=\"1\" class=\"dataframe\">\n",
       "  <thead>\n",
       "    <tr style=\"text-align: right;\">\n",
       "      <th></th>\n",
       "      <th>weekly_icu_admissions</th>\n",
       "      <th>weekly_icu_admissions_per_million</th>\n",
       "      <th>excess_mortality_cumulative_absolute</th>\n",
       "      <th>excess_mortality_cumulative</th>\n",
       "      <th>excess_mortality</th>\n",
       "      <th>excess_mortality_cumulative_per_million</th>\n",
       "      <th>weekly_hosp_admissions</th>\n",
       "      <th>weekly_hosp_admissions_per_million</th>\n",
       "      <th>total_boosters</th>\n",
       "      <th>total_boosters_per_hundred</th>\n",
       "      <th>...</th>\n",
       "      <th>new_cases_smoothed_per_million</th>\n",
       "      <th>new_cases_smoothed</th>\n",
       "      <th>new_cases_per_million</th>\n",
       "      <th>total_cases_per_million</th>\n",
       "      <th>new_cases</th>\n",
       "      <th>total_cases</th>\n",
       "      <th>population</th>\n",
       "      <th>iso_code</th>\n",
       "      <th>location</th>\n",
       "      <th>date</th>\n",
       "    </tr>\n",
       "  </thead>\n",
       "  <tbody>\n",
       "    <tr>\n",
       "      <th>0</th>\n",
       "      <td>170498</td>\n",
       "      <td>170498</td>\n",
       "      <td>170201</td>\n",
       "      <td>170201</td>\n",
       "      <td>170201</td>\n",
       "      <td>170201</td>\n",
       "      <td>164813</td>\n",
       "      <td>164813</td>\n",
       "      <td>155973</td>\n",
       "      <td>155973</td>\n",
       "      <td>...</td>\n",
       "      <td>9320</td>\n",
       "      <td>8539</td>\n",
       "      <td>7331</td>\n",
       "      <td>7106</td>\n",
       "      <td>6544</td>\n",
       "      <td>6319</td>\n",
       "      <td>1104</td>\n",
       "      <td>0</td>\n",
       "      <td>0</td>\n",
       "      <td>0</td>\n",
       "    </tr>\n",
       "  </tbody>\n",
       "</table>\n",
       "<p>1 rows × 67 columns</p>\n",
       "</div>"
      ],
      "text/plain": [
       "   weekly_icu_admissions  weekly_icu_admissions_per_million  \\\n",
       "0                 170498                             170498   \n",
       "\n",
       "   excess_mortality_cumulative_absolute  excess_mortality_cumulative  \\\n",
       "0                                170201                       170201   \n",
       "\n",
       "   excess_mortality  excess_mortality_cumulative_per_million  \\\n",
       "0            170201                                   170201   \n",
       "\n",
       "   weekly_hosp_admissions  weekly_hosp_admissions_per_million  total_boosters  \\\n",
       "0                  164813                              164813          155973   \n",
       "\n",
       "   total_boosters_per_hundred  ...  new_cases_smoothed_per_million  \\\n",
       "0                      155973  ...                            9320   \n",
       "\n",
       "   new_cases_smoothed  new_cases_per_million  total_cases_per_million  \\\n",
       "0                8539                   7331                     7106   \n",
       "\n",
       "   new_cases  total_cases  population  iso_code  location  date  \n",
       "0       6544         6319        1104         0         0     0  \n",
       "\n",
       "[1 rows x 67 columns]"
      ]
     },
     "execution_count": 6,
     "metadata": {},
     "output_type": "execute_result"
    }
   ],
   "source": [
    "from pyspark.sql import functions as F\n",
    "\n",
    "miss_vals = full_df.select([F.count(F.when(F.isnull(c), c)).alias(c) for c in full_df.columns]).collect()[0].asDict()\n",
    "miss_vals = dict(sorted(miss_vals.items(), reverse=True, key=lambda item: item[1]))\n",
    "\n",
    "import pandas as pd\n",
    "\n",
    "pd.DataFrame.from_records([miss_vals])"
   ]
  },
  {
   "cell_type": "markdown",
   "id": "3de605d7",
   "metadata": {
    "papermill": {
     "duration": 0.204673,
     "end_time": "2022-04-10T14:02:36.974864",
     "exception": false,
     "start_time": "2022-04-10T14:02:36.770191",
     "status": "completed"
    },
    "tags": []
   },
   "source": [
    "Note that in the above Pandas is utilized only for the visualization of the dataframe, so it's not considered as \"cheating\"."
   ]
  },
  {
   "cell_type": "markdown",
   "id": "fc58dd1b",
   "metadata": {
    "papermill": {
     "duration": 0.200362,
     "end_time": "2022-04-10T14:02:37.377859",
     "exception": false,
     "start_time": "2022-04-10T14:02:37.177497",
     "status": "completed"
    },
    "tags": []
   },
   "source": [
    "<a id='sec2'></a>\n",
    "\n",
    "## 2. Data Preprocessing\n",
    "\n",
    "Taking the above into consideration, the next step is the construction of a filtered version of the full DataFrame, which includes only the January - February 2021 time period. The reason for this is that - up to the day that this notebook is written - the OWiD dataset on Covid-19 is still being expanded. Consequently, any conclusions that may be drawn as part of the present analysis on the full dataset may be altered in the future, when more data become available and a reader attempts to run the notebook as it is. Before doing that, we make sure that the `date` feature is transformed into a `date` type object."
   ]
  },
  {
   "cell_type": "code",
   "execution_count": 7,
   "id": "2e502e0e",
   "metadata": {
    "execution": {
     "iopub.execute_input": "2022-04-10T14:02:37.800671Z",
     "iopub.status.busy": "2022-04-10T14:02:37.799615Z",
     "iopub.status.idle": "2022-04-10T14:02:37.846909Z",
     "shell.execute_reply": "2022-04-10T14:02:37.845982Z",
     "shell.execute_reply.started": "2022-04-10T13:29:18.815973Z"
    },
    "papermill": {
     "duration": 0.256604,
     "end_time": "2022-04-10T14:02:37.847135",
     "exception": false,
     "start_time": "2022-04-10T14:02:37.590531",
     "status": "completed"
    },
    "tags": []
   },
   "outputs": [],
   "source": [
    "full_df = full_df.withColumn('date',F.to_date(F.unix_timestamp(F.col('date'), 'yyyy-MM-dd').cast(\"timestamp\")))"
   ]
  },
  {
   "cell_type": "markdown",
   "id": "2bc04333",
   "metadata": {
    "papermill": {
     "duration": 0.208604,
     "end_time": "2022-04-10T14:02:38.257806",
     "exception": false,
     "start_time": "2022-04-10T14:02:38.049202",
     "status": "completed"
    },
    "tags": []
   },
   "source": [
    "At this point, `full_df` is filtered in order to keep only the data for the aforementioned two months."
   ]
  },
  {
   "cell_type": "code",
   "execution_count": 8,
   "id": "7b078d32",
   "metadata": {
    "execution": {
     "iopub.execute_input": "2022-04-10T14:02:38.699096Z",
     "iopub.status.busy": "2022-04-10T14:02:38.698401Z",
     "iopub.status.idle": "2022-04-10T14:02:38.759627Z",
     "shell.execute_reply": "2022-04-10T14:02:38.758336Z",
     "shell.execute_reply.started": "2022-04-10T13:29:18.870295Z"
    },
    "papermill": {
     "duration": 0.290184,
     "end_time": "2022-04-10T14:02:38.759870",
     "exception": false,
     "start_time": "2022-04-10T14:02:38.469686",
     "status": "completed"
    },
    "tags": []
   },
   "outputs": [],
   "source": [
    "dates = (\"2021-01-01\", \"2021-02-28\")\n",
    "df = full_df.where(F.col('date').between(*dates))"
   ]
  },
  {
   "cell_type": "markdown",
   "id": "0620af7a",
   "metadata": {
    "papermill": {
     "duration": 0.208159,
     "end_time": "2022-04-10T14:02:39.203048",
     "exception": false,
     "start_time": "2022-04-10T14:02:38.994889",
     "status": "completed"
    },
    "tags": []
   },
   "source": [
    "For completeness, we perform for this filtered version the basic tasks that were performed for the full DataFrame:"
   ]
  },
  {
   "cell_type": "code",
   "execution_count": 9,
   "id": "cb7e5dde",
   "metadata": {
    "execution": {
     "iopub.execute_input": "2022-04-10T14:02:39.632282Z",
     "iopub.status.busy": "2022-04-10T14:02:39.631551Z",
     "iopub.status.idle": "2022-04-10T14:02:43.430582Z",
     "shell.execute_reply": "2022-04-10T14:02:43.431101Z",
     "shell.execute_reply.started": "2022-04-10T13:29:18.950657Z"
    },
    "papermill": {
     "duration": 4.021698,
     "end_time": "2022-04-10T14:02:43.431318",
     "exception": false,
     "start_time": "2022-04-10T14:02:39.409620",
     "status": "completed"
    },
    "tags": []
   },
   "outputs": [
    {
     "name": "stderr",
     "output_type": "stream",
     "text": [
      "                                                                                \r"
     ]
    },
    {
     "name": "stdout",
     "output_type": "stream",
     "text": [
      "The total number of samples is 13515, with each sample corresponding to 67 features.\n"
     ]
    },
    {
     "name": "stderr",
     "output_type": "stream",
     "text": [
      "                                                                                \r"
     ]
    },
    {
     "data": {
      "text/html": [
       "<div>\n",
       "<style scoped>\n",
       "    .dataframe tbody tr th:only-of-type {\n",
       "        vertical-align: middle;\n",
       "    }\n",
       "\n",
       "    .dataframe tbody tr th {\n",
       "        vertical-align: top;\n",
       "    }\n",
       "\n",
       "    .dataframe thead th {\n",
       "        text-align: right;\n",
       "    }\n",
       "</style>\n",
       "<table border=\"1\" class=\"dataframe\">\n",
       "  <thead>\n",
       "    <tr style=\"text-align: right;\">\n",
       "      <th></th>\n",
       "      <th>weekly_icu_admissions</th>\n",
       "      <th>weekly_icu_admissions_per_million</th>\n",
       "      <th>excess_mortality_cumulative_absolute</th>\n",
       "      <th>excess_mortality_cumulative</th>\n",
       "      <th>excess_mortality</th>\n",
       "      <th>excess_mortality_cumulative_per_million</th>\n",
       "      <th>total_boosters</th>\n",
       "      <th>total_boosters_per_hundred</th>\n",
       "      <th>weekly_hosp_admissions</th>\n",
       "      <th>weekly_hosp_admissions_per_million</th>\n",
       "      <th>...</th>\n",
       "      <th>new_cases_smoothed_per_million</th>\n",
       "      <th>new_cases_per_million</th>\n",
       "      <th>total_cases_per_million</th>\n",
       "      <th>new_cases_smoothed</th>\n",
       "      <th>new_cases</th>\n",
       "      <th>total_cases</th>\n",
       "      <th>population</th>\n",
       "      <th>iso_code</th>\n",
       "      <th>location</th>\n",
       "      <th>date</th>\n",
       "    </tr>\n",
       "  </thead>\n",
       "  <tbody>\n",
       "    <tr>\n",
       "      <th>0</th>\n",
       "      <td>13029</td>\n",
       "      <td>13029</td>\n",
       "      <td>13010</td>\n",
       "      <td>13010</td>\n",
       "      <td>13010</td>\n",
       "      <td>13010</td>\n",
       "      <td>12765</td>\n",
       "      <td>12765</td>\n",
       "      <td>12581</td>\n",
       "      <td>12581</td>\n",
       "      <td>...</td>\n",
       "      <td>412</td>\n",
       "      <td>382</td>\n",
       "      <td>378</td>\n",
       "      <td>353</td>\n",
       "      <td>323</td>\n",
       "      <td>319</td>\n",
       "      <td>105</td>\n",
       "      <td>0</td>\n",
       "      <td>0</td>\n",
       "      <td>0</td>\n",
       "    </tr>\n",
       "  </tbody>\n",
       "</table>\n",
       "<p>1 rows × 67 columns</p>\n",
       "</div>"
      ],
      "text/plain": [
       "   weekly_icu_admissions  weekly_icu_admissions_per_million  \\\n",
       "0                  13029                              13029   \n",
       "\n",
       "   excess_mortality_cumulative_absolute  excess_mortality_cumulative  \\\n",
       "0                                 13010                        13010   \n",
       "\n",
       "   excess_mortality  excess_mortality_cumulative_per_million  total_boosters  \\\n",
       "0             13010                                    13010           12765   \n",
       "\n",
       "   total_boosters_per_hundred  weekly_hosp_admissions  \\\n",
       "0                       12765                   12581   \n",
       "\n",
       "   weekly_hosp_admissions_per_million  ...  new_cases_smoothed_per_million  \\\n",
       "0                               12581  ...                             412   \n",
       "\n",
       "   new_cases_per_million  total_cases_per_million  new_cases_smoothed  \\\n",
       "0                    382                      378                 353   \n",
       "\n",
       "   new_cases  total_cases  population  iso_code  location  date  \n",
       "0        323          319         105         0         0     0  \n",
       "\n",
       "[1 rows x 67 columns]"
      ]
     },
     "execution_count": 9,
     "metadata": {},
     "output_type": "execute_result"
    }
   ],
   "source": [
    "print(f\"The total number of samples is {df.count()}, with each sample corresponding to {len(df.columns)} features.\")\n",
    "\n",
    "miss_vals = df.select([F.count(F.when(F.isnull(c), c)).alias(c) for c in df.columns]).collect()[0].asDict()\n",
    "miss_vals = dict(sorted(miss_vals.items(), reverse=True, key=lambda item: item[1]))\n",
    "\n",
    "pd.DataFrame.from_records([miss_vals])"
   ]
  },
  {
   "cell_type": "markdown",
   "id": "ccabd148",
   "metadata": {
    "papermill": {
     "duration": 0.206557,
     "end_time": "2022-04-10T14:02:43.851905",
     "exception": false,
     "start_time": "2022-04-10T14:02:43.645348",
     "status": "completed"
    },
    "tags": []
   },
   "source": [
    "<a id='sec2.1'></a>\n",
    "\n",
    "### 2.1. Handling Missing Values"
   ]
  },
  {
   "cell_type": "markdown",
   "id": "3391f7f8",
   "metadata": {
    "papermill": {
     "duration": 0.207575,
     "end_time": "2022-04-10T14:02:44.263422",
     "exception": false,
     "start_time": "2022-04-10T14:02:44.055847",
     "status": "completed"
    },
    "tags": []
   },
   "source": [
    "<a id='zht2.1'></a>\n",
    "\n",
    "Even in this filtered version, there's a sizeable number of null values present. Before investigating how to deal with them, it's important that we understand the reason why they're missing. As far as the `continent` feature is concerned, the following command sheds light into the reason why it contains null values."
   ]
  },
  {
   "cell_type": "code",
   "execution_count": 10,
   "id": "d8d70a1f",
   "metadata": {
    "execution": {
     "iopub.execute_input": "2022-04-10T14:02:44.685791Z",
     "iopub.status.busy": "2022-04-10T14:02:44.685069Z",
     "iopub.status.idle": "2022-04-10T14:02:45.902238Z",
     "shell.execute_reply": "2022-04-10T14:02:45.901648Z",
     "shell.execute_reply.started": "2022-04-10T13:29:23.290372Z"
    },
    "papermill": {
     "duration": 1.429297,
     "end_time": "2022-04-10T14:02:45.902397",
     "exception": false,
     "start_time": "2022-04-10T14:02:44.473100",
     "status": "completed"
    },
    "tags": []
   },
   "outputs": [
    {
     "name": "stderr",
     "output_type": "stream",
     "text": [
      "[Stage 15:>                                                         (0 + 4) / 4]\r"
     ]
    },
    {
     "name": "stdout",
     "output_type": "stream",
     "text": [
      "+--------+---------+-------------+\n",
      "|iso_code|continent|     location|\n",
      "+--------+---------+-------------+\n",
      "|OWID_SAM|     null|South America|\n",
      "|OWID_SAM|     null|South America|\n",
      "|OWID_SAM|     null|South America|\n",
      "|OWID_SAM|     null|South America|\n",
      "|OWID_SAM|     null|South America|\n",
      "+--------+---------+-------------+\n",
      "only showing top 5 rows\n",
      "\n"
     ]
    },
    {
     "name": "stderr",
     "output_type": "stream",
     "text": [
      "                                                                                \r"
     ]
    }
   ],
   "source": [
    "df.sort(\"continent\").select(\"iso_code\",\"continent\",\"location\").show(5)"
   ]
  },
  {
   "cell_type": "markdown",
   "id": "65ea6248",
   "metadata": {
    "papermill": {
     "duration": 0.211116,
     "end_time": "2022-04-10T14:02:46.330981",
     "exception": false,
     "start_time": "2022-04-10T14:02:46.119865",
     "status": "completed"
    },
    "tags": []
   },
   "source": [
    "Clearly, OWiD have performed a series of aggregations based on criteria such as income, or general aggregations (for example on the continent level). Since they may prove to be useful later on, there is no reason to discard them. The null values can simply be set equal to the `'OWID'` value, in order to be able to invoke them later on if we need to."
   ]
  },
  {
   "cell_type": "code",
   "execution_count": 11,
   "id": "3266c636",
   "metadata": {
    "execution": {
     "iopub.execute_input": "2022-04-10T14:02:46.765653Z",
     "iopub.status.busy": "2022-04-10T14:02:46.764924Z",
     "iopub.status.idle": "2022-04-10T14:02:46.871780Z",
     "shell.execute_reply": "2022-04-10T14:02:46.870585Z",
     "shell.execute_reply.started": "2022-04-10T13:29:24.383947Z"
    },
    "papermill": {
     "duration": 0.325631,
     "end_time": "2022-04-10T14:02:46.872035",
     "exception": false,
     "start_time": "2022-04-10T14:02:46.546404",
     "status": "completed"
    },
    "tags": []
   },
   "outputs": [],
   "source": [
    "df = df.fillna({'continent':'OWID'})"
   ]
  },
  {
   "cell_type": "markdown",
   "id": "e80486c2",
   "metadata": {
    "papermill": {
     "duration": 0.20906,
     "end_time": "2022-04-10T14:02:47.295114",
     "exception": false,
     "start_time": "2022-04-10T14:02:47.086054",
     "status": "completed"
    },
    "tags": []
   },
   "source": [
    "Another column which corresponds to a nominal feature with missing values is `tests_units`. The distinct values that this feature assumes are:"
   ]
  },
  {
   "cell_type": "code",
   "execution_count": 12,
   "id": "9ca56b5d",
   "metadata": {
    "execution": {
     "iopub.execute_input": "2022-04-10T14:02:47.716472Z",
     "iopub.status.busy": "2022-04-10T14:02:47.715482Z",
     "iopub.status.idle": "2022-04-10T14:02:48.950490Z",
     "shell.execute_reply": "2022-04-10T14:02:48.949458Z",
     "shell.execute_reply.started": "2022-04-10T13:29:24.475642Z"
    },
    "papermill": {
     "duration": 1.447225,
     "end_time": "2022-04-10T14:02:48.950708",
     "exception": false,
     "start_time": "2022-04-10T14:02:47.503483",
     "status": "completed"
    },
    "tags": []
   },
   "outputs": [
    {
     "name": "stderr",
     "output_type": "stream",
     "text": [
      "[Stage 16:>                                                         (0 + 4) / 4]\r"
     ]
    },
    {
     "name": "stdout",
     "output_type": "stream",
     "text": [
      "+---------------+\n",
      "|    tests_units|\n",
      "+---------------+\n",
      "|           null|\n",
      "|  people tested|\n",
      "| samples tested|\n",
      "|tests performed|\n",
      "|  units unclear|\n",
      "+---------------+\n",
      "\n"
     ]
    },
    {
     "name": "stderr",
     "output_type": "stream",
     "text": [
      "                                                                                \r"
     ]
    }
   ],
   "source": [
    "df.select(\"tests_units\").distinct().show()"
   ]
  },
  {
   "cell_type": "markdown",
   "id": "40bc3b20",
   "metadata": {
    "papermill": {
     "duration": 0.218174,
     "end_time": "2022-04-10T14:02:49.473496",
     "exception": false,
     "start_time": "2022-04-10T14:02:49.255322",
     "status": "completed"
    },
    "tags": []
   },
   "source": [
    "In other words, `tests_units` is simply a variable that indicates how each country/location reports on the performed tests. For example, in the case of `people tested`, the reported number of total tests is expected to be lower compared to the same report in the case of `tests performed`, since one person can be tested more than once during the same day. This implies that the missing values are due to some countries/locations not providing the relevant information on how they count the total number of daily tests. Of course, this is not a reason to discard the relevant data, therefore the missing values will be replaced by the string `'no info'`."
   ]
  },
  {
   "cell_type": "code",
   "execution_count": 13,
   "id": "687fe531",
   "metadata": {
    "execution": {
     "iopub.execute_input": "2022-04-10T14:02:49.933722Z",
     "iopub.status.busy": "2022-04-10T14:02:49.932592Z",
     "iopub.status.idle": "2022-04-10T14:02:50.019808Z",
     "shell.execute_reply": "2022-04-10T14:02:50.020582Z",
     "shell.execute_reply.started": "2022-04-10T13:29:25.587330Z"
    },
    "papermill": {
     "duration": 0.305828,
     "end_time": "2022-04-10T14:02:50.020815",
     "exception": false,
     "start_time": "2022-04-10T14:02:49.714987",
     "status": "completed"
    },
    "tags": []
   },
   "outputs": [],
   "source": [
    "df = df.fillna({'tests_units':'no info'})"
   ]
  },
  {
   "cell_type": "markdown",
   "id": "918e5c3f",
   "metadata": {
    "papermill": {
     "duration": 0.212406,
     "end_time": "2022-04-10T14:02:50.449050",
     "exception": false,
     "start_time": "2022-04-10T14:02:50.236644",
     "status": "completed"
    },
    "tags": []
   },
   "source": [
    "Moving on to the quantitative features, most missing values are due to the fact that the relevant data were either not available during the studied time period for some locations, or were simply equal to zero. For example, there are 10272 missing values in the `new_vaccinations` column, which are either due to the fact that vaccines were not available in some locations, or due to the fact that these locations reported no vaccinations for specific dates. The best approach in this case is replacing all these values with 0. In the few cases where the missing values are not due to any of these two reasons, but due to wrong reports, bugs, or other reasons, we expect to find it out during their analysis and especially their visualization. In this case, we will be able to re-handle them or discard them completely."
   ]
  },
  {
   "cell_type": "code",
   "execution_count": 14,
   "id": "187fb2d9",
   "metadata": {
    "execution": {
     "iopub.execute_input": "2022-04-10T14:02:50.883922Z",
     "iopub.status.busy": "2022-04-10T14:02:50.882680Z",
     "iopub.status.idle": "2022-04-10T14:02:51.040563Z",
     "shell.execute_reply": "2022-04-10T14:02:51.038988Z",
     "shell.execute_reply.started": "2022-04-10T13:29:25.665439Z"
    },
    "papermill": {
     "duration": 0.379952,
     "end_time": "2022-04-10T14:02:51.040933",
     "exception": false,
     "start_time": "2022-04-10T14:02:50.660981",
     "status": "completed"
    },
    "tags": []
   },
   "outputs": [],
   "source": [
    "df = df.fillna(0)"
   ]
  },
  {
   "cell_type": "markdown",
   "id": "fd9a0425",
   "metadata": {
    "papermill": {
     "duration": 0.212884,
     "end_time": "2022-04-10T14:02:51.465828",
     "exception": false,
     "start_time": "2022-04-10T14:02:51.252944",
     "status": "completed"
    },
    "tags": []
   },
   "source": [
    "The following confirms that there are no missing values left in the dataset."
   ]
  },
  {
   "cell_type": "code",
   "execution_count": 15,
   "id": "0cd021b0",
   "metadata": {
    "execution": {
     "iopub.execute_input": "2022-04-10T14:02:51.899564Z",
     "iopub.status.busy": "2022-04-10T14:02:51.898535Z",
     "iopub.status.idle": "2022-04-10T14:02:53.457344Z",
     "shell.execute_reply": "2022-04-10T14:02:53.458312Z",
     "shell.execute_reply.started": "2022-04-10T13:29:25.832727Z"
    },
    "papermill": {
     "duration": 1.780748,
     "end_time": "2022-04-10T14:02:53.458622",
     "exception": false,
     "start_time": "2022-04-10T14:02:51.677874",
     "status": "completed"
    },
    "tags": []
   },
   "outputs": [
    {
     "name": "stderr",
     "output_type": "stream",
     "text": [
      "[Stage 19:>                                                         (0 + 4) / 4]\r"
     ]
    },
    {
     "name": "stdout",
     "output_type": "stream",
     "text": [
      "All missing values have been taken care of.\n"
     ]
    },
    {
     "name": "stderr",
     "output_type": "stream",
     "text": [
      "                                                                                \r"
     ]
    }
   ],
   "source": [
    "miss_vals = df.select([F.count(F.when(F.isnull(c), c)).alias(c) for c in df.columns]).collect()[0].asDict()\n",
    "if any(list(miss_vals.values())) != 0:\n",
    "    print(\"There are still missing values in the DataFrame.\")\n",
    "else:\n",
    "    print(\"All missing values have been taken care of.\")"
   ]
  },
  {
   "cell_type": "markdown",
   "id": "14e31ba7",
   "metadata": {
    "papermill": {
     "duration": 0.205958,
     "end_time": "2022-04-10T14:02:53.894754",
     "exception": false,
     "start_time": "2022-04-10T14:02:53.688796",
     "status": "completed"
    },
    "tags": []
   },
   "source": [
    "<a id='sec2.2'></a>\n",
    "\n",
    "### 2.2. Outlier Detection\n",
    "\n",
    "Having discussed the case of missing values, perhaps it's a good idea to also discuss the case of outliers. Typically, the identification of outliers requires further analysis, such as visualizations, since it is not a trivial matter (in fact, more often than not it's a case of a supervised learning problem on its own). Furthermore, there are several types of outliers, such as global outliers or context-based outliers (i.e. points that are outliers only given a specific condition or context), which means that dealing with outliers in a universal manner is ill-advised. Nonetheless, if one chooses to do so, a systematic way to deal with outliers is based on [interquartile range methods](https://en.wikipedia.org/wiki/Interquartile_range). The interquartile range, $R$, is defined as\n",
    "\n",
    "$$ R = Q_3 - Q_1 $$\n",
    "\n",
    "where $Q_i$ is the $i$-th quartile. Every point for which the studied feature has a value higher than $Q_3 + \\alpha R$ or lower than $Q_1 - \\alpha R$ is classified as an outlier for this specific feature, where $\\alpha$ is a scalar that defines a \"decision boundary\" in units of $R$. This is essentially how [Box plots](https://en.wikipedia.org/wiki/Box_plot) are constructed, where $R$ corresponds to the Box's height and $\\alpha R$ is equal to the whiskers' length. One very common choice for $\\alpha$ is $\\alpha = 1.5$.\n",
    "\n",
    "Based on these, one can define a function that identifies all outliers with respect to specific features."
   ]
  },
  {
   "cell_type": "code",
   "execution_count": 16,
   "id": "370f1d62",
   "metadata": {
    "execution": {
     "iopub.execute_input": "2022-04-10T14:02:54.319606Z",
     "iopub.status.busy": "2022-04-10T14:02:54.318865Z",
     "iopub.status.idle": "2022-04-10T14:02:54.320861Z",
     "shell.execute_reply": "2022-04-10T14:02:54.321487Z",
     "shell.execute_reply.started": "2022-04-10T13:29:27.322861Z"
    },
    "papermill": {
     "duration": 0.219403,
     "end_time": "2022-04-10T14:02:54.321672",
     "exception": false,
     "start_time": "2022-04-10T14:02:54.102269",
     "status": "completed"
    },
    "tags": []
   },
   "outputs": [],
   "source": [
    "def OutlierDetector(dataframe, features, alpha=1.5):\n",
    "    \"\"\"\n",
    "    Args:\n",
    "        dataframe (pyspark.sql.dataframe.DataFrame):\n",
    "            the DataFrame hosting the data\n",
    "        features (string or List):\n",
    "            List of features (columns) for which we wish to identify outliers.\n",
    "            If set equal to 'all', outliers are identified with respect to all features.\n",
    "        alpha (double):\n",
    "            The parameter that defines the decision boundary (see markdown above)\n",
    "    \"\"\"\n",
    "    feat_types = dict(dataframe.dtypes)\n",
    "    if features == 'all':\n",
    "        features = dataframe.columns\n",
    "        \n",
    "    outliers_cols = []\n",
    "    \n",
    "    for feat in features:\n",
    "        # We only care for quantitative features\n",
    "        if feat_types[feat] == 'double':\n",
    "            Q1, Q3 = dataframe.approxQuantile(feat, [0.25, 0.75], 0)\n",
    "            R = Q3 - Q1\n",
    "            lower_bound = Q1 - (R * alpha)\n",
    "            upper_bound = Q3 + (R * alpha)\n",
    "            \n",
    "            # In this way we construct a query, which can be matched to a DataFrame column, thus returning a new\n",
    "            # column where every point that corresponds to an Outlier has a boolean value set to True\n",
    "            outliers_cols.append(F.when(~F.col(feat).between(lower_bound, upper_bound), True).alias(feat + '_outlier'))\n",
    "    \n",
    "    # Sample points that do not correspond to outliers correspond to a False value for the new column\n",
    "    outlier_df = dataframe.select(*outliers_cols)\n",
    "    outlier_df = outlier_df.fillna(False)\n",
    "    return outlier_df"
   ]
  },
  {
   "cell_type": "markdown",
   "id": "fb08a9fd",
   "metadata": {
    "papermill": {
     "duration": 0.228645,
     "end_time": "2022-04-10T14:02:54.773268",
     "exception": false,
     "start_time": "2022-04-10T14:02:54.544623",
     "status": "completed"
    },
    "tags": []
   },
   "source": [
    "For example, we can check if any of 5 random DataFrame rows correspond to outliers with respect to the `new_cases` feature:"
   ]
  },
  {
   "cell_type": "code",
   "execution_count": 17,
   "id": "b3c68037",
   "metadata": {
    "execution": {
     "iopub.execute_input": "2022-04-10T14:02:55.193101Z",
     "iopub.status.busy": "2022-04-10T14:02:55.192103Z",
     "iopub.status.idle": "2022-04-10T14:02:56.577332Z",
     "shell.execute_reply": "2022-04-10T14:02:56.576292Z",
     "shell.execute_reply.started": "2022-04-10T13:29:27.336882Z"
    },
    "papermill": {
     "duration": 1.595512,
     "end_time": "2022-04-10T14:02:56.577542",
     "exception": false,
     "start_time": "2022-04-10T14:02:54.982030",
     "status": "completed"
    },
    "tags": []
   },
   "outputs": [
    {
     "name": "stderr",
     "output_type": "stream",
     "text": [
      "                                                                                \r"
     ]
    },
    {
     "name": "stdout",
     "output_type": "stream",
     "text": [
      "+-----------------+\n",
      "|new_cases_outlier|\n",
      "+-----------------+\n",
      "|            false|\n",
      "|            false|\n",
      "|            false|\n",
      "|            false|\n",
      "|            false|\n",
      "+-----------------+\n",
      "only showing top 5 rows\n",
      "\n"
     ]
    }
   ],
   "source": [
    "out_df = OutlierDetector(dataframe=df, features=['new_cases'], alpha=1.5)\n",
    "out_df.show(5)"
   ]
  },
  {
   "cell_type": "markdown",
   "id": "46c0576e",
   "metadata": {
    "papermill": {
     "duration": 0.208947,
     "end_time": "2022-04-10T14:02:57.057862",
     "exception": false,
     "start_time": "2022-04-10T14:02:56.848915",
     "status": "completed"
    },
    "tags": []
   },
   "source": [
    "<a id='sec2.3'></a>\n",
    "\n",
    "#### 2.3. Duplicate Entries\n",
    "\n",
    "Before proceeding to the exploratory data analysis, the final step of the preprocessing phase is to locate possible duplicate entries and discard the duplicates. When speaking of duplicates we do not actually refer to a whole row, but rather the combined entries of the `date` **and** `location` columns. A duplicate entry on both of these features would imply that the location has provided more than one daily report on a given date. The following command shows that no duplicates exist in the filtered DataFrame, however, even if they did, they could be removed using ```df = df.dropDuplicates(['location','date'])```."
   ]
  },
  {
   "cell_type": "code",
   "execution_count": 18,
   "id": "7874584b",
   "metadata": {
    "execution": {
     "iopub.execute_input": "2022-04-10T14:02:57.477307Z",
     "iopub.status.busy": "2022-04-10T14:02:57.476261Z",
     "iopub.status.idle": "2022-04-10T14:02:59.424399Z",
     "shell.execute_reply": "2022-04-10T14:02:59.425225Z",
     "shell.execute_reply.started": "2022-04-10T13:29:28.752996Z"
    },
    "papermill": {
     "duration": 2.159789,
     "end_time": "2022-04-10T14:02:59.425479",
     "exception": false,
     "start_time": "2022-04-10T14:02:57.265690",
     "status": "completed"
    },
    "tags": []
   },
   "outputs": [
    {
     "name": "stderr",
     "output_type": "stream",
     "text": [
      "[Stage 27:==============>                                           (1 + 3) / 4]\r"
     ]
    },
    {
     "name": "stdout",
     "output_type": "stream",
     "text": [
      "Either there are no duplicate entries present in the DataFrame, or all of them have already been removed).\n"
     ]
    },
    {
     "name": "stderr",
     "output_type": "stream",
     "text": [
      "                                                                                \r"
     ]
    }
   ],
   "source": [
    "if df.count() != df.select(['location','date']).distinct().count():\n",
    "    print(\"There are duplicate entries present in the DataFrame.\")\n",
    "else:\n",
    "    print(\"Either there are no duplicate entries present in the DataFrame, or all of them have already been removed).\")"
   ]
  },
  {
   "cell_type": "markdown",
   "id": "b5be9f87",
   "metadata": {
    "papermill": {
     "duration": 0.217007,
     "end_time": "2022-04-10T14:02:59.924368",
     "exception": false,
     "start_time": "2022-04-10T14:02:59.707361",
     "status": "completed"
    },
    "tags": []
   },
   "source": [
    "<a id='sec3'></a>\n",
    "\n",
    "## 3. Exploratory Data Analysis\n",
    "\n",
    "Before diving into the EDA, we import some libraries and also present some helper functions and commands that will be utilized further down the road for visualizations."
   ]
  },
  {
   "cell_type": "code",
   "execution_count": 19,
   "id": "266da418",
   "metadata": {
    "execution": {
     "iopub.execute_input": "2022-04-10T14:03:00.353671Z",
     "iopub.status.busy": "2022-04-10T14:03:00.344131Z",
     "iopub.status.idle": "2022-04-10T14:03:01.383280Z",
     "shell.execute_reply": "2022-04-10T14:03:01.382203Z",
     "shell.execute_reply.started": "2022-04-10T13:29:30.629260Z"
    },
    "papermill": {
     "duration": 1.251647,
     "end_time": "2022-04-10T14:03:01.383442",
     "exception": false,
     "start_time": "2022-04-10T14:03:00.131795",
     "status": "completed"
    },
    "tags": []
   },
   "outputs": [],
   "source": [
    "import matplotlib\n",
    "import numpy as np\n",
    "import matplotlib.pyplot as plt\n",
    "import seaborn as sns\n",
    "\n",
    "from matplotlib.colors import ListedColormap, LinearSegmentedColormap, TwoSlopeNorm\n",
    "from mpl_toolkits.axes_grid1 import make_axes_locatable\n",
    "\n",
    "def CustomCmap(from_rgb,to_rgb):\n",
    "\n",
    "    # from color r,g,b\n",
    "    r1,g1,b1 = from_rgb\n",
    "\n",
    "    # to color r,g,b\n",
    "    r2,g2,b2 = to_rgb\n",
    "\n",
    "    cdict = {'red': ((0, r1, r1),\n",
    "                   (1, r2, r2)),\n",
    "           'green': ((0, g1, g1),\n",
    "                    (1, g2, g2)),\n",
    "           'blue': ((0, b1, b1),\n",
    "                   (1, b2, b2))}\n",
    "\n",
    "    cmap = LinearSegmentedColormap('custom_cmap', cdict)\n",
    "    return cmap\n",
    "\n",
    "mycmap = CustomCmap([1.0, 1.0, 1.0], [72/255, 99/255, 147/255])\n",
    "mycmap_r = CustomCmap([72/255, 99/255, 147/255], [1.0, 1.0, 1.0])\n",
    "\n",
    "mycol = (72/255, 99/255, 147/255)\n",
    "mycomplcol = (129/255, 143/255, 163/255)\n",
    "othercol1 = (135/255, 121/255, 215/255)\n",
    "othercol2 = (57/255, 119/255, 171/255)\n",
    "othercol3 = (68/255, 81/255, 91/255)\n",
    "othercol4 = (73/255, 149/255, 139/255)"
   ]
  },
  {
   "cell_type": "markdown",
   "id": "9ef73980",
   "metadata": {
    "papermill": {
     "duration": 0.216338,
     "end_time": "2022-04-10T14:03:01.813641",
     "exception": false,
     "start_time": "2022-04-10T14:03:01.597303",
     "status": "completed"
    },
    "tags": []
   },
   "source": [
    "- **Evolution of top countries with respect to mortality**\n",
    "\n",
    "Herein, the mortality rate is calculated as the total number of deaths divided by each location's population (another common definition is the total number of deaths by Covid divided by the total number of Covid cases). For this purpose, a column named `mortality` is constructed. Using this column, we identify the top 10 countries in terms of mortality rates, for every day of the studied time interval."
   ]
  },
  {
   "cell_type": "code",
   "execution_count": 20,
   "id": "f918d7f8",
   "metadata": {
    "execution": {
     "iopub.execute_input": "2022-04-10T14:03:02.253057Z",
     "iopub.status.busy": "2022-04-10T14:03:02.251984Z",
     "iopub.status.idle": "2022-04-10T14:03:03.578521Z",
     "shell.execute_reply": "2022-04-10T14:03:03.579359Z",
     "shell.execute_reply.started": "2022-04-10T13:29:31.577529Z"
    },
    "papermill": {
     "duration": 1.545228,
     "end_time": "2022-04-10T14:03:03.579634",
     "exception": false,
     "start_time": "2022-04-10T14:03:02.034406",
     "status": "completed"
    },
    "tags": []
   },
   "outputs": [
    {
     "name": "stderr",
     "output_type": "stream",
     "text": [
      "                                                                                \r"
     ]
    }
   ],
   "source": [
    "dates_frame = df.select(\"date\").distinct().orderBy('date').collect()\n",
    "dates_list = [str(dates_frame[x][0]) for x in range(len(dates_frame))]"
   ]
  },
  {
   "cell_type": "code",
   "execution_count": 21,
   "id": "2fd3b124",
   "metadata": {
    "execution": {
     "iopub.execute_input": "2022-04-10T14:03:04.053327Z",
     "iopub.status.busy": "2022-04-10T14:03:04.049808Z",
     "iopub.status.idle": "2022-04-10T14:03:51.515970Z",
     "shell.execute_reply": "2022-04-10T14:03:51.516651Z",
     "shell.execute_reply.started": "2022-04-10T13:29:32.837092Z"
    },
    "papermill": {
     "duration": 47.689825,
     "end_time": "2022-04-10T14:03:51.516905",
     "exception": false,
     "start_time": "2022-04-10T14:03:03.827080",
     "status": "completed"
    },
    "tags": []
   },
   "outputs": [
    {
     "name": "stderr",
     "output_type": "stream",
     "text": [
      "                                                                                \r"
     ]
    },
    {
     "name": "stdout",
     "output_type": "stream",
     "text": [
      "During 2021-01-01, the top 10 countries with the highest mortality rate were:\n",
      "▶ Peru, with mortality rate 0.28%.\n",
      "▶ San Marino, with mortality rate 0.17%.\n",
      "▶ Belgium, with mortality rate 0.17%.\n",
      "▶ Slovenia, with mortality rate 0.13%.\n",
      "▶ Bosnia and Herzegovina, with mortality rate 0.13%.\n",
      "▶ Italy, with mortality rate 0.12%.\n",
      "▶ North Macedonia, with mortality rate 0.12%.\n",
      "▶ Liechtenstein, with mortality rate 0.12%.\n",
      "▶ Bulgaria, with mortality rate 0.11%.\n",
      "▶ Czechia, with mortality rate 0.11%.\n"
     ]
    },
    {
     "name": "stderr",
     "output_type": "stream",
     "text": [
      "                                                                                \r"
     ]
    },
    {
     "name": "stdout",
     "output_type": "stream",
     "text": [
      "This was the top ten until 2021-01-08, when United Kingdom joined the list, replacing Bulgaria.\n"
     ]
    },
    {
     "name": "stderr",
     "output_type": "stream",
     "text": [
      "                                                                                \r"
     ]
    },
    {
     "name": "stdout",
     "output_type": "stream",
     "text": [
      "This was the top ten until 2021-01-18, when Gibraltar joined the list, replacing North Macedonia.\n"
     ]
    },
    {
     "name": "stderr",
     "output_type": "stream",
     "text": [
      "                                                                                \r"
     ]
    },
    {
     "name": "stdout",
     "output_type": "stream",
     "text": [
      "This was the top ten until 2021-02-03, when North Macedonia joined the list, replacing Liechtenstein.\n"
     ]
    },
    {
     "name": "stderr",
     "output_type": "stream",
     "text": [
      "                                                                                \r"
     ]
    },
    {
     "name": "stdout",
     "output_type": "stream",
     "text": [
      "This was the top ten until 2021-02-05, when United States joined the list, replacing North Macedonia.\n"
     ]
    },
    {
     "name": "stderr",
     "output_type": "stream",
     "text": [
      "                                                                                \r"
     ]
    },
    {
     "name": "stdout",
     "output_type": "stream",
     "text": [
      "This was the top ten until 2021-02-08, when North Macedonia joined the list, replacing United States.\n"
     ]
    },
    {
     "name": "stderr",
     "output_type": "stream",
     "text": [
      "                                                                                \r"
     ]
    },
    {
     "name": "stdout",
     "output_type": "stream",
     "text": [
      "This was the top ten until 2021-02-09, when Portugal joined the list, replacing North Macedonia.\n"
     ]
    },
    {
     "name": "stderr",
     "output_type": "stream",
     "text": [
      "                                                                                \r"
     ]
    },
    {
     "name": "stdout",
     "output_type": "stream",
     "text": [
      "This was the top ten until 2021-02-23, when Montenegro joined the list, replacing Bosnia and Herzegovina.\n"
     ]
    },
    {
     "name": "stderr",
     "output_type": "stream",
     "text": [
      "                                                                                \r"
     ]
    },
    {
     "name": "stdout",
     "output_type": "stream",
     "text": [
      "During 2021-02-28, the top 10 countries with the highest mortality rate were:\n",
      "▶ Peru, with mortality rate 0.37%.\n",
      "▶ Gibraltar, with mortality rate 0.28%.\n",
      "▶ San Marino, with mortality rate 0.22%.\n",
      "▶ Belgium, with mortality rate 0.19%.\n",
      "▶ Czechia, with mortality rate 0.19%.\n",
      "▶ Slovenia, with mortality rate 0.18%.\n",
      "▶ United Kingdom, with mortality rate 0.18%.\n",
      "▶ Italy, with mortality rate 0.16%.\n",
      "▶ Portugal, with mortality rate 0.16%.\n",
      "▶ Montenegro, with mortality rate 0.16%.\n"
     ]
    }
   ],
   "source": [
    "df_for_mort = df.filter(F.col('population') != 0.0).withColumn(\"mortality\", F.col(\"total_deaths\")/F.col(\"population\"))\n",
    "\n",
    "for i, this_day in enumerate(dates_list):\n",
    "    this_day_top_10 = df_for_mort.filter(F.col('date') == this_day).orderBy(\"mortality\", ascending=False).select([\"location\",\"mortality\"]).take(10)\n",
    "    if i == 0:\n",
    "        ct_list = [(this_day_top_10[x][0],this_day_top_10[x][1]) for x in range(10)]\n",
    "        print(\"During \"+this_day+\", the top 10 countries with the highest mortality rate were:\")\n",
    "        for country, instance in ct_list:\n",
    "            print(f\"▶ {country}, with mortality rate {100*instance:.2f}%.\")\n",
    "        new_set = set(ct_list[x][0] for x in range(10))\n",
    "    elif i == len(dates_list)-1:\n",
    "        ct_list = [(this_day_top_10[x][0],this_day_top_10[x][1]) for x in range(10)]\n",
    "        print(\"During \"+this_day+\", the top 10 countries with the highest mortality rate were:\")\n",
    "        for country, instance in ct_list:\n",
    "            print(f\"▶ {country}, with mortality rate {100*instance:.2f}%.\")\n",
    "    else:\n",
    "        new_set = set(this_day_top_10[x][0] for x in range(10))\n",
    "        if new_set != old_set:\n",
    "            left_out = old_set-new_set\n",
    "            new_additions = new_set-old_set\n",
    "            print(\"This was the top ten until \"+this_day+\", when \"+\", \".join(str(s) for s in new_additions)+\" joined the list, replacing \"+\", \".join(str(s) for s in left_out)+\".\")\n",
    "    new_set, old_set = set(), new_set"
   ]
  },
  {
   "cell_type": "markdown",
   "id": "98f65af2",
   "metadata": {
    "papermill": {
     "duration": 0.228293,
     "end_time": "2022-04-10T14:03:51.974910",
     "exception": false,
     "start_time": "2022-04-10T14:03:51.746617",
     "status": "completed"
    },
    "tags": []
   },
   "source": [
    "A better way of approaching this is by developing a series of lollipop charts that depict the evolution of the top 10 countries with respect to the mortality rate. The python code used to extract each lollipop chart image can be found in the [Appendix](#appendix) and all images were merged into a .gif file using Adobe Photoshop. The result can be seen below:\n",
    "\n",
    "<center> <img src=\"https://srigas.me/github/covid_mortality_rate.gif\" width=420> </center>\n",
    "\n",
    "The lollipop chart provides the information that the code above provided. In addition to that, it presents the exact changes in ratings between the top 10 countries."
   ]
  },
  {
   "cell_type": "markdown",
   "id": "938c2fc1",
   "metadata": {
    "papermill": {
     "duration": 0.225871,
     "end_time": "2022-04-10T14:03:52.426216",
     "exception": false,
     "start_time": "2022-04-10T14:03:52.200345",
     "status": "completed"
    },
    "tags": []
   },
   "source": [
    "- **Evolution of top countries with respect to total cases per million**\n",
    "\n",
    "The same procedure can be performed for the number of total cases per million. We choose to normalize the total number of cases in this way in order to be able to compare locations with different populations."
   ]
  },
  {
   "cell_type": "code",
   "execution_count": 22,
   "id": "e792068b",
   "metadata": {
    "execution": {
     "iopub.execute_input": "2022-04-10T14:03:52.891569Z",
     "iopub.status.busy": "2022-04-10T14:03:52.887790Z",
     "iopub.status.idle": "2022-04-10T14:04:36.254866Z",
     "shell.execute_reply": "2022-04-10T14:04:36.255685Z",
     "shell.execute_reply.started": "2022-04-10T13:30:16.705407Z"
    },
    "papermill": {
     "duration": 43.604922,
     "end_time": "2022-04-10T14:04:36.255931",
     "exception": false,
     "start_time": "2022-04-10T14:03:52.651009",
     "status": "completed"
    },
    "tags": []
   },
   "outputs": [
    {
     "name": "stderr",
     "output_type": "stream",
     "text": [
      "                                                                                \r"
     ]
    },
    {
     "name": "stdout",
     "output_type": "stream",
     "text": [
      "During 2021-01-01, the top 10 countries with the highest number of total cases per million were:\n",
      "▶ Andorra, with 104933.164 total cases per million.\n",
      "▶ Montenegro, with 77364.736 total cases per million.\n",
      "▶ Luxembourg, with 73115.905 total cases per million.\n",
      "▶ San Marino, with 70097.03 total cases per million.\n",
      "▶ Czechia, with 68256.644 total cases per million.\n",
      "▶ Gibraltar, with 65655.516 total cases per million.\n",
      "▶ United States, with 61189.671 total cases per million.\n",
      "▶ French Polynesia, with 59907.834 total cases per million.\n",
      "▶ Slovenia, with 59627.954 total cases per million.\n",
      "▶ Liechtenstein, with 58686.673 total cases per million.\n"
     ]
    },
    {
     "name": "stderr",
     "output_type": "stream",
     "text": [
      "                                                                                \r"
     ]
    },
    {
     "name": "stdout",
     "output_type": "stream",
     "text": [
      "This was the top ten until 2021-01-07, when Panama joined the list, replacing French Polynesia.\n"
     ]
    },
    {
     "name": "stderr",
     "output_type": "stream",
     "text": [
      "                                                                                \r"
     ]
    },
    {
     "name": "stdout",
     "output_type": "stream",
     "text": [
      "This was the top ten until 2021-01-13, when Slovakia joined the list, replacing Liechtenstein.\n"
     ]
    },
    {
     "name": "stderr",
     "output_type": "stream",
     "text": [
      "                                                                                \r"
     ]
    },
    {
     "name": "stdout",
     "output_type": "stream",
     "text": [
      "This was the top ten until 2021-02-05, when Portugal joined the list, replacing Panama.\n"
     ]
    },
    {
     "name": "stderr",
     "output_type": "stream",
     "text": [
      "                                                                                \r"
     ]
    },
    {
     "name": "stdout",
     "output_type": "stream",
     "text": [
      "This was the top ten until 2021-02-10, when Israel joined the list, replacing Portugal.\n"
     ]
    },
    {
     "name": "stderr",
     "output_type": "stream",
     "text": [
      "                                                                                \r"
     ]
    },
    {
     "name": "stdout",
     "output_type": "stream",
     "text": [
      "During 2021-02-28, the top 10 countries with the highest number of total cases per million were:\n",
      "▶ Andorra, with 140471.081 total cases per million.\n",
      "▶ Gibraltar, with 125819.952 total cases per million.\n",
      "▶ Montenegro, with 120744.971 total cases per million.\n",
      "▶ Czechia, with 115201.072 total cases per million.\n",
      "▶ San Marino, with 109261.982 total cases per million.\n",
      "▶ Slovakia, with 108027.497 total cases per million.\n",
      "▶ Slovenia, with 91441.236 total cases per million.\n",
      "▶ Luxembourg, with 86812.83 total cases per million.\n",
      "▶ United States, with 86351.972 total cases per million.\n",
      "▶ Israel, with 83500.915 total cases per million.\n"
     ]
    },
    {
     "name": "stderr",
     "output_type": "stream",
     "text": [
      "                                                                                \r"
     ]
    }
   ],
   "source": [
    "for i, this_day in enumerate(dates_list):\n",
    "    this_day_top_10 = df.filter(F.col('date') == this_day).orderBy(\"total_cases_per_million\", ascending=False).select([\"location\",\"total_cases_per_million\"]).take(10)\n",
    "    if i == 0:\n",
    "        ct_list = [(this_day_top_10[x][0],this_day_top_10[x][1]) for x in range(10)]\n",
    "        print(\"During \"+this_day+\", the top 10 countries with the highest number of total cases per million were:\")\n",
    "        for country, instance in ct_list:\n",
    "            print(f\"▶ {country}, with {instance} total cases per million.\")\n",
    "        new_set = set(ct_list[x][0] for x in range(10))\n",
    "    elif i == len(dates_list)-1:\n",
    "        ct_list = [(this_day_top_10[x][0],this_day_top_10[x][1]) for x in range(10)]\n",
    "        print(\"During \"+this_day+\", the top 10 countries with the highest number of total cases per million were:\")\n",
    "        for country, instance in ct_list:\n",
    "            print(f\"▶ {country}, with {instance} total cases per million.\")\n",
    "    else:\n",
    "        new_set = set(this_day_top_10[x][0] for x in range(10))\n",
    "        if new_set != old_set:\n",
    "            left_out = old_set-new_set\n",
    "            new_additions = new_set-old_set\n",
    "            print(\"This was the top ten until \"+this_day+\", when \"+\", \".join(str(s) for s in new_additions)+\" joined the list, replacing \"+\", \".join(str(s) for s in left_out)+\".\")\n",
    "    new_set, old_set = set(), new_set"
   ]
  },
  {
   "cell_type": "markdown",
   "id": "daeae0cb",
   "metadata": {
    "papermill": {
     "duration": 0.233904,
     "end_time": "2022-04-10T14:04:36.727700",
     "exception": false,
     "start_time": "2022-04-10T14:04:36.493796",
     "status": "completed"
    },
    "tags": []
   },
   "source": [
    "The corresponding .gif image can be seen below.\n",
    "\n",
    "<center> <img src=\"https://srigas.me/github/total_cases_covid_lollipop.gif\" width=420> </center>"
   ]
  },
  {
   "cell_type": "markdown",
   "id": "429c5ab9",
   "metadata": {
    "papermill": {
     "duration": 0.238706,
     "end_time": "2022-04-10T14:04:37.201158",
     "exception": false,
     "start_time": "2022-04-10T14:04:36.962452",
     "status": "completed"
    },
    "tags": []
   },
   "source": [
    "- **Hospitalized Patients and ICU Admissions**\n",
    "\n",
    "Moving on, we study the `hosp_patients` and `icu_patients` features by visualizing the corresponding timeseries for the total number of hospitalized and ICU patients on a global scale."
   ]
  },
  {
   "cell_type": "code",
   "execution_count": 23,
   "id": "41a3bca8",
   "metadata": {
    "execution": {
     "iopub.execute_input": "2022-04-10T14:04:37.688367Z",
     "iopub.status.busy": "2022-04-10T14:04:37.687619Z",
     "iopub.status.idle": "2022-04-10T14:04:41.250903Z",
     "shell.execute_reply": "2022-04-10T14:04:41.251426Z",
     "shell.execute_reply.started": "2022-04-10T13:33:35.362464Z"
    },
    "papermill": {
     "duration": 3.814017,
     "end_time": "2022-04-10T14:04:41.251614",
     "exception": false,
     "start_time": "2022-04-10T14:04:37.437597",
     "status": "completed"
    },
    "tags": []
   },
   "outputs": [
    {
     "name": "stderr",
     "output_type": "stream",
     "text": [
      "                                                                                \r"
     ]
    },
    {
     "data": {
      "image/png": "[encoded data removed]",
      "text/plain": [
       "<Figure size 1008x360 with 2 Axes>"
      ]
     },
     "metadata": {},
     "output_type": "display_data"
    }
   ],
   "source": [
    "dt_ord = df.orderBy(\"date\", ascending=True).groupBy(\"date\")\n",
    "\n",
    "hosps = dt_ord.agg(F.sum(\"hosp_patients\")).collect()\n",
    "hosps = [hosps[i][1] for i in range(len(hosps))]\n",
    "\n",
    "icus = dt_ord.agg(F.sum(\"icu_patients\")).collect()\n",
    "icus = [icus[i][1] for i in range(len(icus))]\n",
    "\n",
    "sns.set(style = \"darkgrid\")\n",
    "\n",
    "alt_dts_list = [dt.replace('2021-', '') for dt in dates_list]\n",
    "tick_marks = np.arange(len(alt_dts_list))\n",
    "\n",
    "fig, [ax1,ax2] = plt.subplots(1, 2, figsize=(14,5))\n",
    "\n",
    "for pat, col, style, ax, where in zip([hosps,icus], [mycol, mycomplcol],\n",
    "                                      ['solid', 'dashed'], [ax1,ax2], ['Normal Beds','ICUs']): \n",
    "    ax.plot(alt_dts_list, pat, linestyle=style, color=col)\n",
    "    ax.set_xlabel(\"Date\")\n",
    "    ax.set_ylabel(\"Number of Patients\")\n",
    "    ax.set_title(f\"Daily Number of Patients in {where}\", fontsize=14)\n",
    "    ax.set_xticks(tick_marks[::5])\n",
    "    ax.set_xticklabels(alt_dts_list[::5], rotation=45)\n",
    "    \n",
    "plt.show()\n",
    "\n",
    "matplotlib.rc_file_defaults()"
   ]
  },
  {
   "cell_type": "markdown",
   "id": "f71c3db0",
   "metadata": {
    "papermill": {
     "duration": 0.23914,
     "end_time": "2022-04-10T14:04:41.733707",
     "exception": false,
     "start_time": "2022-04-10T14:04:41.494567",
     "status": "completed"
    },
    "tags": []
   },
   "source": [
    "It becomes evident that the overall trend is downwards for both hospital and ICU admissions, since both numbers have declined to almost half their initial value by the end of the two-month period under study. It is worth noting that an upwards trend seems to appear near the end of February in the case of ICU patients. Of course, without further information we can't know if it is the beginning of a monotonically increasing trend, or simply a momentary increase, as the one identified between February 15-20. Finally, notice that both diagrams have a similar behavior, which hints at a correlation between the number of hospital patients and the number of ICU patients (which is probably expected). An important difference is that the absolute value of the number of hospital patients is considerably higher compared to the number of ICU admissions, which is reasonable, since the number of milder cases is higher compared to the number of more severe ones."
   ]
  },
  {
   "cell_type": "markdown",
   "id": "fac341e4",
   "metadata": {
    "papermill": {
     "duration": 0.247304,
     "end_time": "2022-04-10T14:04:42.222785",
     "exception": false,
     "start_time": "2022-04-10T14:04:41.975481",
     "status": "completed"
    },
    "tags": []
   },
   "source": [
    "- **Geographic Heatmap of Total Cases**\n",
    "\n",
    "An interesting visualization is the geographic heatmap, which is a 2D representation of countries world-wide which are colored depending on their intensity as far as a specific feature is concerned. Below, we construct the geographic heatmap for the number of total cases on a global scale. A heatmap image is extracted for each day and afterwards all images are merged into a .gif file. The heatmap is constructed using the geopandas library, as seen below. Note that to do this, we must first download a shapefile (.shp) which is the foundation for the construction of the heatmap and can be found [here](https://www.naturalearthdata.com/downloads/10m-cultural-vectors/)."
   ]
  },
  {
   "cell_type": "code",
   "execution_count": 24,
   "id": "d1fbbf15",
   "metadata": {
    "execution": {
     "iopub.execute_input": "2022-04-10T14:04:42.715734Z",
     "iopub.status.busy": "2022-04-10T14:04:42.714961Z",
     "iopub.status.idle": "2022-04-10T14:04:45.223209Z",
     "shell.execute_reply": "2022-04-10T14:04:45.222506Z",
     "shell.execute_reply.started": "2022-04-10T13:33:51.472915Z"
    },
    "papermill": {
     "duration": 2.755803,
     "end_time": "2022-04-10T14:04:45.223394",
     "exception": false,
     "start_time": "2022-04-10T14:04:42.467591",
     "status": "completed"
    },
    "tags": []
   },
   "outputs": [],
   "source": [
    "import requests, zipfile\n",
    "from io import BytesIO\n",
    "\n",
    "zip_file_url = \"https://srigas.me/kaggle/owid-nb-data.zip\"\n",
    "\n",
    "request = requests.get(zip_file_url)\n",
    "zipDocument = zipfile.ZipFile(BytesIO(request.content))\n",
    "\n",
    "zipDocument.extractall()"
   ]
  },
  {
   "cell_type": "code",
   "execution_count": 25,
   "id": "f84e81a8",
   "metadata": {
    "execution": {
     "iopub.execute_input": "2022-04-10T14:04:45.724691Z",
     "iopub.status.busy": "2022-04-10T14:04:45.721555Z",
     "iopub.status.idle": "2022-04-10T14:04:46.949369Z",
     "shell.execute_reply": "2022-04-10T14:04:46.948617Z",
     "shell.execute_reply.started": "2022-04-10T13:33:58.997857Z"
    },
    "papermill": {
     "duration": 1.47682,
     "end_time": "2022-04-10T14:04:46.949565",
     "exception": false,
     "start_time": "2022-04-10T14:04:45.472745",
     "status": "completed"
    },
    "tags": []
   },
   "outputs": [],
   "source": [
    "import geopandas as gpd\n",
    "\n",
    "shapefile = 'countries.shp'\n",
    "geo_df = gpd.read_file(shapefile)[['ADMIN','ADM0_A3','geometry']]\n",
    "geo_df.columns = ['location', 'iso_code', 'geometry']\n",
    "geo_df = geo_df.drop(geo_df.loc[geo_df['location'] == 'Antarctica'].index) # exclude Antarctica"
   ]
  },
  {
   "cell_type": "code",
   "execution_count": 26,
   "id": "adc8d95d",
   "metadata": {
    "execution": {
     "iopub.execute_input": "2022-04-10T14:04:47.454366Z",
     "iopub.status.busy": "2022-04-10T14:04:47.450015Z",
     "iopub.status.idle": "2022-04-10T14:07:41.734196Z",
     "shell.execute_reply": "2022-04-10T14:07:41.734822Z",
     "shell.execute_reply.started": "2022-04-10T13:34:00.246941Z"
    },
    "papermill": {
     "duration": 174.533581,
     "end_time": "2022-04-10T14:07:41.735246",
     "exception": false,
     "start_time": "2022-04-10T14:04:47.201665",
     "status": "completed"
    },
    "tags": []
   },
   "outputs": [
    {
     "name": "stdout",
     "output_type": "stream",
     "text": [
      "Initializing the construction of heatmaps for every day.\n"
     ]
    },
    {
     "name": "stderr",
     "output_type": "stream",
     "text": [
      "                                                                                \r"
     ]
    },
    {
     "name": "stdout",
     "output_type": "stream",
     "text": [
      "Process complete. 59 heatmap(s) were extracted, ready to be converted into a .gif file.\n"
     ]
    }
   ],
   "source": [
    "print('Initializing the construction of heatmaps for every day.')\n",
    "\n",
    "ct = 0\n",
    "for this_day in dates_list:\n",
    "    # The conversion of the required columns into a Pandas df is necessary to perform the mapping\n",
    "    day_df = df.filter(F.col('date') == this_day).select([\"iso_code\",\"total_cases\"]).toPandas()\n",
    "\n",
    "    merged_df = pd.merge(left=geo_df, right=day_df, how='left', left_on='iso_code', right_on='iso_code')\n",
    "\n",
    "    title = f'Total COVID-19 Cases as of {this_day}'\n",
    "    col = 'total_cases'\n",
    "    vmin, vmax = merged_df[col].min(), merged_df[col].max()\n",
    "    cmap = mycmap\n",
    "    divnorm = TwoSlopeNorm(vcenter=0.08*20365726)\n",
    "\n",
    "    # Create figure and axes for Matplotlib\n",
    "    fig, ax = plt.subplots(1, figsize=(20, 8))\n",
    "\n",
    "    # Remove the axis\n",
    "    ax.axis('off')\n",
    "    merged_df.plot(column=col, ax=ax, edgecolor='1.0', linewidth=1, norm=divnorm, cmap=cmap)\n",
    "\n",
    "    # Add a title\n",
    "    ax.set_title(title, fontdict={'fontsize': '25', 'fontweight': '3'})\n",
    "\n",
    "    # Create colorbar as a legend\n",
    "    sm = plt.cm.ScalarMappable(norm=plt.Normalize(vmin=vmin, vmax=vmax), cmap=cmap)\n",
    "\n",
    "    # Empty array for the data range\n",
    "    sm._A = []\n",
    "\n",
    "    # Add the colorbar to the figure\n",
    "    cbaxes = fig.add_axes([0.15, 0.25, 0.01, 0.4])\n",
    "    cbar = fig.colorbar(sm, cax=cbaxes)\n",
    "    plt.savefig(f'world_map_{this_day}.png', bbox_inches='tight')\n",
    "    plt.close(fig)\n",
    "    ct += 1\n",
    "\n",
    "print(f'Process complete. {ct} heatmap(s) were extracted, ready to be converted into a .gif file.')"
   ]
  },
  {
   "cell_type": "markdown",
   "id": "92c99a13",
   "metadata": {
    "papermill": {
     "duration": 0.247579,
     "end_time": "2022-04-10T14:07:42.231150",
     "exception": false,
     "start_time": "2022-04-10T14:07:41.983571",
     "status": "completed"
    },
    "tags": []
   },
   "source": [
    "The final .gif can be seen below.\n",
    "\n",
    "<center> <img src=\"https://srigas.me/github/covidgif.gif\"> </center>"
   ]
  },
  {
   "cell_type": "markdown",
   "id": "6e752130",
   "metadata": {
    "papermill": {
     "duration": 0.247601,
     "end_time": "2022-04-10T14:07:42.723566",
     "exception": false,
     "start_time": "2022-04-10T14:07:42.475965",
     "status": "completed"
    },
    "tags": []
   },
   "source": [
    "- **Geographic Correlation of Excess Mortality**\n",
    "\n",
    "Based on the previous visualization it appears that some neighbouring countries are correlated with respect to the total number of cases (for example France and Germany). A reasonable hypothesis is that the same may be true for other features as well, such as the excess mortality.\n",
    "\n",
    "The excess mortality is a feature for which the reports are weekly and not daily. It is equal to the total number of deaths for a specific week minus the mean number of deaths, based on reports from previous years. While it is not a feature directly connected with Covid, it's expected that during a global pandemic the excess mortality can be mainly attributed to this pandemic.\n",
    "\n",
    "In order to investigate the correlation between neighbouring countries, we must first develop a list of dates for which reports on excess mortality are available (for all other dates, the entries are equal to zero due to our preprocessing)."
   ]
  },
  {
   "cell_type": "code",
   "execution_count": 27,
   "id": "17a37f26",
   "metadata": {
    "execution": {
     "iopub.execute_input": "2022-04-10T14:07:43.231919Z",
     "iopub.status.busy": "2022-04-10T14:07:43.231067Z",
     "iopub.status.idle": "2022-04-10T14:07:44.417008Z",
     "shell.execute_reply": "2022-04-10T14:07:44.416189Z",
     "shell.execute_reply.started": "2022-04-10T13:36:40.461377Z"
    },
    "papermill": {
     "duration": 1.445836,
     "end_time": "2022-04-10T14:07:44.417256",
     "exception": false,
     "start_time": "2022-04-10T14:07:42.971420",
     "status": "completed"
    },
    "tags": []
   },
   "outputs": [
    {
     "name": "stderr",
     "output_type": "stream",
     "text": [
      "                                                                                \r"
     ]
    }
   ],
   "source": [
    "exc_dates_list = df.filter(F.col('excess_mortality') != 0.0).select(['date']).distinct().orderBy('date').collect()\n",
    "exc_dates_list = [str(exc_dates_list[i][0]) for i in range(len(exc_dates_list))]"
   ]
  },
  {
   "cell_type": "markdown",
   "id": "a307b9b4",
   "metadata": {
    "papermill": {
     "duration": 0.245604,
     "end_time": "2022-04-10T14:07:44.917532",
     "exception": false,
     "start_time": "2022-04-10T14:07:44.671928",
     "status": "completed"
    },
    "tags": []
   },
   "source": [
    "For brevity, we shall focus our study only on European countries. First, we construct a geographic heatmap of Europe with respect to excess mortality for each date calculated in the previous cell and merge the results into a .gif file, as done previously."
   ]
  },
  {
   "cell_type": "code",
   "execution_count": 28,
   "id": "9b19dab6",
   "metadata": {
    "execution": {
     "iopub.execute_input": "2022-04-10T14:07:45.424642Z",
     "iopub.status.busy": "2022-04-10T14:07:45.423806Z",
     "iopub.status.idle": "2022-04-10T14:07:57.210716Z",
     "shell.execute_reply": "2022-04-10T14:07:57.211279Z",
     "shell.execute_reply.started": "2022-04-10T13:36:41.355999Z"
    },
    "papermill": {
     "duration": 12.052544,
     "end_time": "2022-04-10T14:07:57.211474",
     "exception": false,
     "start_time": "2022-04-10T14:07:45.158930",
     "status": "completed"
    },
    "tags": []
   },
   "outputs": [
    {
     "name": "stdout",
     "output_type": "stream",
     "text": [
      "Initializing the construction of heatmaps for every day.\n"
     ]
    },
    {
     "name": "stderr",
     "output_type": "stream",
     "text": [
      "                                                                                \r"
     ]
    },
    {
     "name": "stdout",
     "output_type": "stream",
     "text": [
      "Process complete. 9 heatmap(s) were extracted, ready to be converted into a .gif file.\n"
     ]
    }
   ],
   "source": [
    "print('Initializing the construction of heatmaps for every day.')\n",
    "\n",
    "ct = 0\n",
    "for this_day in exc_dates_list:\n",
    "    europe_df = df.filter(F.col('date') == this_day).filter(F.col('continent') == 'Europe').filter(F.col('excess_mortality') != 0.0).select([\"iso_code\",\"excess_mortality\"])\n",
    "    \n",
    "    geo_eu = pd.merge(left=geo_df, right=europe_df.toPandas(), how='inner', on='iso_code')\n",
    "\n",
    "    fig, ax = plt.subplots(1,1)\n",
    "\n",
    "    col = 'excess_mortality'\n",
    "    cmap = mycmap\n",
    "\n",
    "    vmin, vmax = geo_eu[col].min(), geo_eu[col].max()\n",
    "    sm = plt.cm.ScalarMappable(norm=plt.Normalize(vmin=vmin, vmax=vmax), cmap=cmap)\n",
    "\n",
    "    ax.axis('off')\n",
    "    ax.axis([-13, 44, 33, 72])\n",
    "    geo_eu.plot(column=col, ax=ax, edgecolor='1.0', linewidth=1, norm=None, cmap=cmap)\n",
    "    ax.set_title(f'Excess Mortality in Europe as of {this_day}', fontdict={'fontsize': '14', 'fontweight': '3'})\n",
    "    \n",
    "    divider = make_axes_locatable(ax)\n",
    "    cax = divider.append_axes(\"right\", size=\"5%\", pad=.2)\n",
    "    fig.add_axes(cax)\n",
    "    fig.colorbar(sm, cax=cax)\n",
    "    plt.savefig(f'europe_{this_day}.png', bbox_inches='tight')\n",
    "    plt.close(fig)\n",
    "    ct += 1\n",
    "    \n",
    "print(f'Process complete. {ct} heatmap(s) were extracted, ready to be converted into a .gif file.')"
   ]
  },
  {
   "cell_type": "markdown",
   "id": "6ead4776",
   "metadata": {
    "papermill": {
     "duration": 0.271965,
     "end_time": "2022-04-10T14:07:57.742780",
     "exception": false,
     "start_time": "2022-04-10T14:07:57.470815",
     "status": "completed"
    },
    "tags": []
   },
   "source": [
    "<center> <img src=\"https://srigas.me/github/europe_excess_mortality.gif\"> </center>"
   ]
  },
  {
   "cell_type": "markdown",
   "id": "696c6f30",
   "metadata": {
    "papermill": {
     "duration": 0.24282,
     "end_time": "2022-04-10T14:07:58.227665",
     "exception": false,
     "start_time": "2022-04-10T14:07:57.984845",
     "status": "completed"
    },
    "tags": []
   },
   "source": [
    "Based on this visualization, it's safe to assume that there indeed are neighbouring countries for which the excess mortality values appear to be significantly correlated. Germany and Switzerland are an example of one such pair of countries, as they appear to have highs and lows with respect to excess mortality at the same time.\n",
    "\n",
    "In order to produce these results with more mathematical rigor, we need to construct a new PySpark DataFrame including all the reports on excess mortality for each European country that has provided reports on **all** of the previously calculated dates. Countries with even 1 missing value will not be taken into consideration, in order to be able to draw conclusions that are as safe as possible, since the volume of the available data is very small with regards to this feature. Then, using this newly created DataFrame, a Pearson correlation matrix can be constructed, thus revealing not only pairs of correlated countries that share the same geographical borders, but also the exact value of this correlation."
   ]
  },
  {
   "cell_type": "code",
   "execution_count": 29,
   "id": "f2813bb3",
   "metadata": {
    "execution": {
     "iopub.execute_input": "2022-04-10T14:07:58.734486Z",
     "iopub.status.busy": "2022-04-10T14:07:58.733381Z",
     "iopub.status.idle": "2022-04-10T14:08:20.913350Z",
     "shell.execute_reply": "2022-04-10T14:08:20.911961Z",
     "shell.execute_reply.started": "2022-04-10T13:36:53.512096Z"
    },
    "papermill": {
     "duration": 22.440721,
     "end_time": "2022-04-10T14:08:20.913544",
     "exception": false,
     "start_time": "2022-04-10T14:07:58.472823",
     "status": "completed"
    },
    "tags": []
   },
   "outputs": [
    {
     "name": "stderr",
     "output_type": "stream",
     "text": [
      "                                                                                \r"
     ]
    },
    {
     "name": "stdout",
     "output_type": "stream",
     "text": [
      "31 European countries are chosen for this analysis.\n"
     ]
    }
   ],
   "source": [
    "european_df = df.filter(F.col('continent') == 'Europe').filter(F.col('excess_mortality') != 0.0)\n",
    "european_cts = european_df.select(['location']).distinct().collect()\n",
    "european_cts = [european_cts[i][0] for i in range(len(european_cts)) if european_df.filter(F.col('location') == european_cts[i][0]).count() == len(exc_dates_list)]\n",
    "print(f'{len(european_cts)} European countries are chosen for this analysis.')"
   ]
  },
  {
   "cell_type": "code",
   "execution_count": 30,
   "id": "2b1081f8",
   "metadata": {
    "execution": {
     "iopub.execute_input": "2022-04-10T14:08:21.426841Z",
     "iopub.status.busy": "2022-04-10T14:08:21.426051Z",
     "iopub.status.idle": "2022-04-10T14:08:25.516065Z",
     "shell.execute_reply": "2022-04-10T14:08:25.515385Z",
     "shell.execute_reply.started": "2022-04-10T13:37:13.691205Z"
    },
    "papermill": {
     "duration": 4.350667,
     "end_time": "2022-04-10T14:08:25.516236",
     "exception": false,
     "start_time": "2022-04-10T14:08:21.165569",
     "status": "completed"
    },
    "tags": []
   },
   "outputs": [],
   "source": [
    "from pyspark.sql.functions import monotonically_increasing_id, row_number\n",
    "from pyspark.sql.window import Window\n",
    "\n",
    "eu_cts_df = european_df.filter(F.col('location') == european_cts[0]).select(['excess_mortality']).withColumnRenamed(\"excess_mortality\", european_cts[0])\n",
    "# required for the proper join of the following DataFrames\n",
    "eu_cts_df = eu_cts_df.withColumn('row_index', row_number().over(Window.partitionBy(F.lit(0)).orderBy(monotonically_increasing_id())))\n",
    "\n",
    "for country in european_cts[1:]:\n",
    "    new_ct_df = european_df.filter(F.col('location') == country).select(['excess_mortality']).withColumnRenamed(\"excess_mortality\", country)\n",
    "    new_ct_df = new_ct_df.withColumn('row_index', row_number().over(Window.partitionBy(F.lit(0)).orderBy(monotonically_increasing_id())))\n",
    "    \n",
    "    eu_cts_df = eu_cts_df.join(new_ct_df, on=[\"row_index\"])\n",
    "    \n",
    "eu_cts_df = eu_cts_df.drop(\"row_index\")"
   ]
  },
  {
   "cell_type": "code",
   "execution_count": 31,
   "id": "f67607b2",
   "metadata": {
    "execution": {
     "iopub.execute_input": "2022-04-10T14:08:26.022296Z",
     "iopub.status.busy": "2022-04-10T14:08:26.021568Z",
     "iopub.status.idle": "2022-04-10T14:08:45.011322Z",
     "shell.execute_reply": "2022-04-10T14:08:45.010655Z",
     "shell.execute_reply.started": "2022-04-10T13:37:17.316392Z"
    },
    "papermill": {
     "duration": 19.24755,
     "end_time": "2022-04-10T14:08:45.011492",
     "exception": false,
     "start_time": "2022-04-10T14:08:25.763942",
     "status": "completed"
    },
    "tags": []
   },
   "outputs": [
    {
     "name": "stderr",
     "output_type": "stream",
     "text": [
      "                                                                                \r"
     ]
    }
   ],
   "source": [
    "from pyspark.ml.stat import Correlation\n",
    "from pyspark.ml.feature import VectorAssembler\n",
    "\n",
    "vector_col = \"corr_features\"\n",
    "assembler = VectorAssembler(inputCols=eu_cts_df.columns, outputCol=vector_col)\n",
    "df_vector = assembler.transform(eu_cts_df).select(vector_col)\n",
    "\n",
    "matrix = Correlation.corr(df_vector, vector_col, 'pearson')\n",
    "cor_np = matrix.collect()[0][matrix.columns[0]].toArray()"
   ]
  },
  {
   "cell_type": "markdown",
   "id": "65bffb2d",
   "metadata": {
    "papermill": {
     "duration": 0.259868,
     "end_time": "2022-04-10T14:08:45.548913",
     "exception": false,
     "start_time": "2022-04-10T14:08:45.289045",
     "status": "completed"
    },
    "tags": []
   },
   "source": [
    "The calculated correlation matrix can be seen in the following heatmap, where only values of Pearson correlation that are higher than 0.8 are depicted (since we are looking for neighbouring countries with high correlation). This is why the lower limit of the colorbar is set to 0.8."
   ]
  },
  {
   "cell_type": "code",
   "execution_count": 32,
   "id": "c2f819c7",
   "metadata": {
    "execution": {
     "iopub.execute_input": "2022-04-10T14:08:46.110928Z",
     "iopub.status.busy": "2022-04-10T14:08:46.110018Z",
     "iopub.status.idle": "2022-04-10T14:08:47.064634Z",
     "shell.execute_reply": "2022-04-10T14:08:47.065155Z",
     "shell.execute_reply.started": "2022-04-10T13:37:34.474164Z"
    },
    "papermill": {
     "duration": 1.248857,
     "end_time": "2022-04-10T14:08:47.065369",
     "exception": false,
     "start_time": "2022-04-10T14:08:45.816512",
     "status": "completed"
    },
    "tags": []
   },
   "outputs": [
    {
     "data": {
      "image/png": "[encoded data removed]",
      "text/plain": [
       "<Figure size 1300x1000 with 2 Axes>"
      ]
     },
     "metadata": {},
     "output_type": "display_data"
    }
   ],
   "source": [
    "fig, ax = plt.subplots(figsize=(13,10))\n",
    "\n",
    "sns.heatmap(cor_np, linewidths=.5, ax=ax, vmin=0.8, vmax=1, cmap=mycmap,\n",
    "            xticklabels=european_cts, yticklabels=european_cts)\n",
    "ax.set_title('Correlation Matrix for Excess Mortality values per Country', fontsize=16)\n",
    "plt.show()"
   ]
  },
  {
   "cell_type": "markdown",
   "id": "7ed4b950",
   "metadata": {
    "papermill": {
     "duration": 0.257487,
     "end_time": "2022-04-10T14:08:47.586103",
     "exception": false,
     "start_time": "2022-04-10T14:08:47.328616",
     "status": "completed"
    },
    "tags": []
   },
   "source": [
    "As noted before, Switzerland and Germany indeed correspond to a pair of highly correlated neighbouring countries with respect to excess mortality. In fact, it appears that in most cases **only** neighbouring countries (for example Belgium and Germany, or Luxemburg and Netherlands) and second neighbours thereof show high values of correlation, with the value of correlation declining significantly as the neighbour index (i.e. how many countries apart two countries are) increases beyond 2. Some additional examples of correlated pairs can be seen in the following table, along with the corresponding Pearson Correlation.\n",
    "\n",
    "| | Pearson Correlation for excess mortality (%) |\n",
    "| :-: | :-: |\n",
    "| **Germany & Switzerland** | 98.29 |\n",
    "| **Germany & Belgium** | 95.44 |\n",
    "| **Lithuania & Poland** | 92.50 |\n",
    "| **Netherlands & Belgium** | 92.30 |\n",
    "| **Czechia & Poland** | 89.08 |\n",
    "| **Greece & Bulgaria** | 86.87 |\n",
    "| **Italy & Slovenia** | 86.23 |\n",
    "\n",
    "For a more extensive list of European countries with high correlation that is not limited only to neighbouring countries, one can run the following snippet of code:\n",
    "\n",
    "```\n",
    "for i in range(len(european_cts)):\n",
    "    for j in range(i+1,len(european_cts)):\n",
    "        corr_val = cor_np[i][j]\n",
    "        if corr_val > 0.8:\n",
    "            print(f'{european_cts[i]} and {european_cts[j]} show a correlation of {100*corr_val:.2f}.')\n",
    "```"
   ]
  },
  {
   "cell_type": "markdown",
   "id": "027a5aed",
   "metadata": {
    "papermill": {
     "duration": 0.267579,
     "end_time": "2022-04-10T14:08:48.118015",
     "exception": false,
     "start_time": "2022-04-10T14:08:47.850436",
     "status": "completed"
    },
    "tags": []
   },
   "source": [
    "- **Reproduction Rate on the Continent Level**\n",
    "\n",
    "Moving on, we continue the study of the pandemic's features on a geographic viewpoint by grouping the countries together into continents. For this purpose, the DataFrame is split into continent-level DataFrames, in order to be able to draw the geographic heatmaps separately. The studied feature is now the daily reproduction rate, corresponding to the heatmap's intensity, with a common scale in order to be able to compare different continents. As usual, a .gif image is constructed using separate heatmap images for each day in the January-February interval.\n",
    "\n",
    "Note that all filterings are performed using PySpark, however the joining of the DataFrames is performed using Pandas because [PySpark cannot recognize the column that corresponds to each location's geometry](https://ncar.github.io/PySpark4Climate/tutorials/pyspark-geo-analysis/geopandas-and-spark/), which is required for the construction of the geographic maps."
   ]
  },
  {
   "cell_type": "code",
   "execution_count": 33,
   "id": "7d5ce13b",
   "metadata": {
    "execution": {
     "iopub.execute_input": "2022-04-10T14:08:48.721889Z",
     "iopub.status.busy": "2022-04-10T14:08:48.720782Z",
     "iopub.status.idle": "2022-04-10T14:20:26.204208Z",
     "shell.execute_reply": "2022-04-10T14:20:26.203151Z",
     "shell.execute_reply.started": "2022-04-10T13:30:59.865731Z"
    },
    "papermill": {
     "duration": 697.794551,
     "end_time": "2022-04-10T14:20:26.204475",
     "exception": false,
     "start_time": "2022-04-10T14:08:48.409924",
     "status": "completed"
    },
    "tags": []
   },
   "outputs": [
    {
     "name": "stdout",
     "output_type": "stream",
     "text": [
      "Initializing the construction of heatmaps for every day.\n"
     ]
    },
    {
     "name": "stderr",
     "output_type": "stream",
     "text": [
      "                                                                                \r"
     ]
    },
    {
     "name": "stdout",
     "output_type": "stream",
     "text": [
      "Process complete. 59 heatmap(s) were extracted, ready to be converted into a .gif file.\n"
     ]
    }
   ],
   "source": [
    "daily_means = {'AS': [], 'EU' : [], 'NAM' : [], 'SAM' : [], 'OC' : [], 'AF' : []}\n",
    "\n",
    "print('Initializing the construction of heatmaps for every day.')\n",
    "\n",
    "ct = 0\n",
    "for this_day in dates_list:\n",
    "    asia_df = df.filter(F.col('date') == this_day).filter(F.col('continent') == 'Asia').filter(F.col('reproduction_rate') != 0.0).select([\"iso_code\",\"reproduction_rate\"])\n",
    "    europe_df = df.filter(F.col('date') == this_day).filter(F.col('continent') == 'Europe').filter(F.col('reproduction_rate') != 0.0).select([\"iso_code\",\"reproduction_rate\"])\n",
    "    namerica_df = df.filter(F.col('date') == this_day).filter((F.col('continent') == 'North America')).filter(F.col('reproduction_rate') != 0.0).select([\"iso_code\",\"reproduction_rate\"])\n",
    "    samerica_df = df.filter(F.col('date') == this_day).filter((F.col('continent') == 'South America')).filter(F.col('reproduction_rate') != 0.0).select([\"iso_code\",\"reproduction_rate\"])\n",
    "    oceania_df = df.filter(F.col('date') == this_day).filter(F.col('continent') == 'Oceania').filter(F.col('reproduction_rate') != 0.0).select([\"iso_code\",\"reproduction_rate\"])\n",
    "    africa_df = df.filter(F.col('date') == this_day).filter(F.col('continent') == 'Africa').filter(F.col('reproduction_rate') != 0.0).select([\"iso_code\",\"reproduction_rate\"])\n",
    "\n",
    "    daily_means['AS'].append(asia_df.select(F.mean(F.col('reproduction_rate'))).collect()[0][0])\n",
    "    daily_means['EU'].append(europe_df.select(F.mean(F.col('reproduction_rate'))).collect()[0][0])\n",
    "    daily_means['NAM'].append(namerica_df.select(F.mean(F.col('reproduction_rate'))).collect()[0][0])\n",
    "    daily_means['SAM'].append(samerica_df.select(F.mean(F.col('reproduction_rate'))).collect()[0][0])\n",
    "    daily_means['OC'].append(oceania_df.select(F.mean(F.col('reproduction_rate'))).collect()[0][0])\n",
    "    daily_means['AF'].append(africa_df.select(F.mean(F.col('reproduction_rate'))).collect()[0][0])\n",
    "\n",
    "    geo_as = pd.merge(left=geo_df, right=asia_df.toPandas(), how='inner', on='iso_code')\n",
    "    geo_eu = pd.merge(left=geo_df, right=europe_df.toPandas(), how='inner', on='iso_code')\n",
    "    geo_sam = pd.merge(left=geo_df, right=samerica_df.toPandas(), how='inner', on='iso_code')\n",
    "    geo_nam = pd.merge(left=geo_df, right=namerica_df.toPandas(), how='inner', on='iso_code')\n",
    "    geo_oc = pd.merge(left=geo_df, right=oceania_df.toPandas(), how='inner', on='iso_code')\n",
    "    geo_af = pd.merge(left=geo_df, right=africa_df.toPandas(), how='inner', on='iso_code')\n",
    "\n",
    "    fig, axes = plt.subplots(2,3, figsize=(18,14))\n",
    "\n",
    "    col = 'reproduction_rate'\n",
    "    cmap = mycmap\n",
    "\n",
    "    vmin = min(geo_as[col].min(),geo_eu[col].min(),geo_sam[col].min(),geo_nam[col].min(),geo_oc[col].min(),geo_af[col].min())\n",
    "    vmax = max(geo_as[col].max(),geo_eu[col].max(),geo_sam[col].max(),geo_nam[col].max(),geo_oc[col].max(),geo_af[col].max())\n",
    "    sm = plt.cm.ScalarMappable(norm=plt.Normalize(vmin=vmin, vmax=vmax), cmap=cmap)\n",
    "\n",
    "    for ax, data, cont, dims in zip(axes.flat,\n",
    "                               [geo_eu, geo_nam, geo_af, geo_as, geo_sam, geo_oc],\n",
    "                               ['Europe','North America','Africa','Asia','South America','Oceania'],\n",
    "                               [[-13, 44, 33, 72],[-170, -50, 5, 85],[-20, 55, -38, 40],[25, 145, -10, 60],[-85, -32, -58, 15],[110,160,-45,0]]):\n",
    "        title = f'{cont}'\n",
    "        ax.axis('off')\n",
    "        ax.axis(dims)\n",
    "        data.plot(column=col, ax=ax, edgecolor='1.0', linewidth=1, norm=None, cmap=cmap)\n",
    "        ax.set_title(title, fontdict={'fontsize': '18', 'fontweight': '3'})\n",
    "\n",
    "    clb = fig.colorbar(sm, ax=axes.flat, location='bottom', fraction=0.056)\n",
    "    clb.ax.set_title(f'COVID-19 Reproduction Rate as of {this_day}', fontsize=22)\n",
    "    plt.savefig(f'cont_maps_{this_day}.png', bbox_inches='tight')\n",
    "    plt.close(fig)\n",
    "    ct += 1\n",
    "\n",
    "print(f'Process complete. {ct} heatmap(s) were extracted, ready to be converted into a .gif file.')"
   ]
  },
  {
   "cell_type": "markdown",
   "id": "a92c683b",
   "metadata": {
    "papermill": {
     "duration": 0.373213,
     "end_time": "2022-04-10T14:20:26.958322",
     "exception": false,
     "start_time": "2022-04-10T14:20:26.585109",
     "status": "completed"
    },
    "tags": []
   },
   "source": [
    "<center> <img src=\"https://srigas.me/github/daily_covid_reproduction.gif\"> </center>"
   ]
  },
  {
   "cell_type": "markdown",
   "id": "eef01d2d",
   "metadata": {
    "papermill": {
     "duration": 0.493248,
     "end_time": "2022-04-10T14:20:27.824283",
     "exception": false,
     "start_time": "2022-04-10T14:20:27.331035",
     "status": "completed"
    },
    "tags": []
   },
   "source": [
    "On the continental level, it appears that Australia has both the highest and the lowest values for the reproduction rate. Such fluctuations are present in other continents as well, albeit less intense. In general, the reproduction rate appears higher during the last days of February compared to the first days of January, thus indicating an alarming trend of the pandemic. South America is a typical example of this trend, where the reproduction rate appears to stabilize on relatively high values as time passes. On the other hand, there's also the exception of North America (where the fluctuations are uniform for all its countries, thus indicating a high inter-country correlation), where the reproduction rate shows an overall decline during the two studied months.\n",
    "\n",
    "On the country level, Asian countries tend to follow the pattern of neighbouring-countries correlation that was studied above for the case of excess mortality. In fact, in most cases this correlation can be seen between neighbours of order higher than 1, similar to what was observed in North American countries. Interestingly enough, in Europe, while Portugal and Spain show relatively high reproduction rates compared to other countries in the beginning of January, the exact opposite is true by the end of February. On the one hand, this observation can be attributed to the efficient crisis management by the two countries that gained experience after being struck hard by the pandemic during its early days. On the other hand, it can also be attributed to these countries' efficiency in [providing vaccinations coverage](https://apnews.com/article/coronavirus-pandemic-lifestyle-health-europe-portugal-66ad07ae486a8c396cf8a8f72eb8e30f).\n",
    "\n",
    "The .gif image above depicts the reproduction rate on the country level as well, apart from the continent level. In order to focus solely on the continent level, we provide below the timeseries for the mean value of the virus' reproduction rate per continent."
   ]
  },
  {
   "cell_type": "code",
   "execution_count": 34,
   "id": "c42fb17e",
   "metadata": {
    "execution": {
     "iopub.execute_input": "2022-04-10T14:20:28.585150Z",
     "iopub.status.busy": "2022-04-10T14:20:28.584446Z",
     "iopub.status.idle": "2022-04-10T14:20:28.997473Z",
     "shell.execute_reply": "2022-04-10T14:20:28.997998Z",
     "shell.execute_reply.started": "2022-04-10T13:30:59.867066Z"
    },
    "papermill": {
     "duration": 0.798957,
     "end_time": "2022-04-10T14:20:28.998214",
     "exception": false,
     "start_time": "2022-04-10T14:20:28.199257",
     "status": "completed"
    },
    "tags": []
   },
   "outputs": [
    {
     "data": {
      "image/png": "[encoded data removed]",
      "text/plain": [
       "<Figure size 1000x500 with 1 Axes>"
      ]
     },
     "metadata": {},
     "output_type": "display_data"
    }
   ],
   "source": [
    "sns.set(style = \"darkgrid\")\n",
    "\n",
    "fig, ax = plt.subplots(1, 1, figsize=(10,5))\n",
    "\n",
    "for key, col, lab in zip(daily_means,\n",
    "                             [othercol1, othercol2, othercol3, mycol, mycomplcol, othercol4],\n",
    "                             ['Asia', 'Europe', 'Africa', 'N. America', 'S. America', 'Oceania']): \n",
    "    ax.plot(alt_dts_list, daily_means[key], color=col, label = lab)\n",
    "    \n",
    "ax.set_xlabel(\"Date\")\n",
    "ax.set_ylabel(\"Reproduction Rate\")\n",
    "ax.set_title(\"Daily Mean Reproduction Rate per Continent\", fontsize=14)\n",
    "tick_marks = np.arange(len(alt_dts_list))\n",
    "ax.set_xticks(tick_marks[::5])\n",
    "ax.set_xticklabels(alt_dts_list[::5], rotation=45)\n",
    "plt.legend(bbox_to_anchor=(1.05, 1), loc=2, title=\"Continent\")\n",
    "plt.show()\n",
    "\n",
    "matplotlib.rc_file_defaults()"
   ]
  },
  {
   "cell_type": "markdown",
   "id": "120189f8",
   "metadata": {
    "papermill": {
     "duration": 0.379514,
     "end_time": "2022-04-10T14:20:29.763645",
     "exception": false,
     "start_time": "2022-04-10T14:20:29.384131",
     "status": "completed"
    },
    "tags": []
   },
   "source": [
    "The trends and fluctuations that were previously observed can be seen in this graph as well. For example, the overall trend towards higher values of reproduction rate is evident in all continents with the exception of North America. Nonetheless, an additional piece of information provided by this new graph is that during the last days of February the mean reproduction rate for the countries in North America has a tendency to increase. The same can be said for the countries of Asia and South America as well. Especially for the countries in South America, the overall increase of the reproduction rate was approximately 60%, indicating that the overall increase may be even higher by the end of March, based on the aforementioned tendency. On the other hand, when it comes to Oceania, Africa and Europe, there is a tendency towards stabilization of the reproduction rate to a constant value. \n",
    "\n",
    "Closing this part of the analysis, it's worth noting that the intense fluctuations that were observed for Oceania in the .gif above do not seem to appear in this graph, where the corresponding timeseries is close to being constant, if compared to the other ones. However, upon a closer inspection, it becomes clear that there is no inconsistency: the mean reproduction rate is calculated as an unweighted mean value by diving with the total number of countries, instead of a weighted mean with respect to each country's population. This means that the contribution of Australia is considered equal to that of Papua New Guinea for the calculation of the mean reproduction rate. As a result, the almost constant trend of the timeseries corresponding to Oceania can be attributed to the fact that the trends of Australia and Papua New Guinea as far as reproduction rate is concerned are inverse: whenever the rate is high for Australia, it is low for Papua New Guinea and vice versa."
   ]
  },
  {
   "cell_type": "markdown",
   "id": "80a10b42",
   "metadata": {
    "papermill": {
     "duration": 0.37012,
     "end_time": "2022-04-10T14:20:30.508970",
     "exception": false,
     "start_time": "2022-04-10T14:20:30.138850",
     "status": "completed"
    },
    "tags": []
   },
   "source": [
    "- **Correlation between different features**\n",
    "\n",
    "Moving away from the geographic visualizations we proceed to study the correlation between different features on the country level. More specifically, we study the correlation between excess mortality and number of daily tests performed. The columns used for this purpose are `excess_mortality` and `new_tests_smoothed`. The reason why `new_tests_smoothed` is used instead of `new_tests` is because it contains less missing values compared to `new_tests`. Since the analysis is performed on the country level, there is no reason to use normalized features, since the final metric is simply the correlation between different features corresponding to the same country.\n",
    "\n",
    "It's important to note that not all countries are taken into account, but only these with more than 5 **non zero** entries for the `excess_mortality` feature, for the reasons discussed previously as far as this feature is concerned. Without this filter, a lot of countries seem to show the maximum/minimum value of +1/-1 for the studied correlation, simply because there are very few entries. A typical example is that of Albania, for which the correlation is found equal to +1, simply because it has only 2 entries for the `excess_mortality` feature during the months January-February 2021."
   ]
  },
  {
   "cell_type": "code",
   "execution_count": 35,
   "id": "79e88638",
   "metadata": {
    "execution": {
     "iopub.execute_input": "2022-04-10T14:20:31.267225Z",
     "iopub.status.busy": "2022-04-10T14:20:31.266506Z",
     "iopub.status.idle": "2022-04-10T14:20:32.036331Z",
     "shell.execute_reply": "2022-04-10T14:20:32.035309Z",
     "shell.execute_reply.started": "2022-04-10T13:30:59.868223Z"
    },
    "papermill": {
     "duration": 1.153786,
     "end_time": "2022-04-10T14:20:32.036587",
     "exception": false,
     "start_time": "2022-04-10T14:20:30.882801",
     "status": "completed"
    },
    "tags": []
   },
   "outputs": [
    {
     "name": "stderr",
     "output_type": "stream",
     "text": [
      "                                                                                \r"
     ]
    }
   ],
   "source": [
    "countries_frame = df.select(\"location\").distinct().collect()\n",
    "exclusion_list = ['Europe', 'World', 'Asia', 'North America', 'South America', 'Africa', 'Oceania', 'Upper middle income']\n",
    "countries_list = [str(countries_frame[x][0]) for x in range(len(countries_frame)) if str(countries_frame[x][0]) not in exclusion_list]"
   ]
  },
  {
   "cell_type": "code",
   "execution_count": 36,
   "id": "ae61a0c1",
   "metadata": {
    "execution": {
     "iopub.execute_input": "2022-04-10T14:20:32.832682Z",
     "iopub.status.busy": "2022-04-10T14:20:32.831644Z",
     "iopub.status.idle": "2022-04-10T14:22:23.736228Z",
     "shell.execute_reply": "2022-04-10T14:22:23.735113Z",
     "shell.execute_reply.started": "2022-04-10T13:30:59.869427Z"
    },
    "papermill": {
     "duration": 111.28015,
     "end_time": "2022-04-10T14:22:23.736469",
     "exception": false,
     "start_time": "2022-04-10T14:20:32.456319",
     "status": "completed"
    },
    "tags": []
   },
   "outputs": [],
   "source": [
    "country_dict = {}\n",
    "for country in countries_list:\n",
    "    filtered = df.filter(F.col('location') == country).filter(F.col('excess_mortality') != 0.0)\n",
    "    if filtered.count() > 5:\n",
    "        value = filtered.stat.corr(\"excess_mortality\", \"new_tests_smoothed\")\n",
    "    else:\n",
    "        value = np.nan\n",
    "    if not np.isnan(value):\n",
    "        country_dict[country] = value"
   ]
  },
  {
   "cell_type": "code",
   "execution_count": 37,
   "id": "c37c86eb",
   "metadata": {
    "execution": {
     "iopub.execute_input": "2022-04-10T14:22:24.495840Z",
     "iopub.status.busy": "2022-04-10T14:22:24.495115Z",
     "iopub.status.idle": "2022-04-10T14:22:24.501141Z",
     "shell.execute_reply": "2022-04-10T14:22:24.502409Z",
     "shell.execute_reply.started": "2022-04-10T13:30:59.870760Z"
    },
    "papermill": {
     "duration": 0.386133,
     "end_time": "2022-04-10T14:22:24.502698",
     "exception": false,
     "start_time": "2022-04-10T14:22:24.116565",
     "status": "completed"
    },
    "tags": []
   },
   "outputs": [
    {
     "name": "stdout",
     "output_type": "stream",
     "text": [
      "As far as the correlation between new tests and excess mortality is concerned:\n",
      "\n",
      "The ten countries with the highest correlation are:\n",
      "Spain, with correlation equal to 0.976.\n",
      "South Africa, with correlation equal to 0.968.\n",
      "Peru, with correlation equal to 0.962.\n",
      "Portugal, with correlation equal to 0.960.\n",
      "Mexico, with correlation equal to 0.921.\n",
      "Colombia, with correlation equal to 0.916.\n",
      "United States, with correlation equal to 0.794.\n",
      "Lithuania, with correlation equal to 0.762.\n",
      "South Korea, with correlation equal to 0.723.\n",
      "Ecuador, with correlation equal to 0.670.\n",
      "\n",
      "The ten countries with the lowest correlation are:\n",
      "Slovakia, with correlation equal to -0.883.\n",
      "Denmark, with correlation equal to -0.828.\n",
      "Romania, with correlation equal to -0.762.\n",
      "New Zealand, with correlation equal to -0.729.\n",
      "Switzerland, with correlation equal to -0.715.\n",
      "Italy, with correlation equal to -0.698.\n",
      "Sweden, with correlation equal to -0.643.\n",
      "Luxembourg, with correlation equal to -0.543.\n",
      "Guatemala, with correlation equal to -0.483.\n",
      "Austria, with correlation equal to -0.396.\n"
     ]
    }
   ],
   "source": [
    "country_dict = dict(sorted(country_dict.items(), reverse=True, key=lambda item: item[1]))\n",
    "print(\"As far as the correlation between new tests and excess mortality is concerned:\\n\")\n",
    "print(\"The ten countries with the highest correlation are:\")\n",
    "for i, ct in enumerate(country_dict):\n",
    "    if i == 10: break\n",
    "    print(f\"{ct}, with correlation equal to {country_dict[ct]:.3f}.\")\n",
    "country_dict = dict(sorted(country_dict.items(), reverse=False, key=lambda item: item[1]))\n",
    "print(\"\\nThe ten countries with the lowest correlation are:\")\n",
    "for i, ct in enumerate(country_dict):\n",
    "    if i == 10: break\n",
    "    print(f\"{ct}, with correlation equal to {country_dict[ct]:.3f}.\")"
   ]
  },
  {
   "cell_type": "markdown",
   "id": "11f0c9a6",
   "metadata": {
    "papermill": {
     "duration": 0.373273,
     "end_time": "2022-04-10T14:22:25.243712",
     "exception": false,
     "start_time": "2022-04-10T14:22:24.870439",
     "status": "completed"
    },
    "tags": []
   },
   "source": [
    "For the countries where the correlation is positive and close to one, elevated numbers of excess mortality seem to be related to an elevated number of daily tests and vice versa. This might concern countries which, by January or February 2021, had been severely affected by the pandemic and therefore performed a lot of daily tests, in order to be able to restrain the virus outbreak by isolating infected individuals and performing case tracking. [Spain and Portugal](https://pubmed.ncbi.nlm.nih.gov/33334400/) are two examples of such countries.\n",
    "\n",
    "On the other hand, in countries with the inverse correlation, either elevated numbers of excess mortality were not enough to pressure for more diagnostic tests (for example Romania), or despite low numbers of excess mortality, the daily tests performed were highly elevated for prevention (for example New Zealand or Luxemburg)."
   ]
  },
  {
   "cell_type": "markdown",
   "id": "a742ded2",
   "metadata": {
    "papermill": {
     "duration": 0.369174,
     "end_time": "2022-04-10T14:22:25.993086",
     "exception": false,
     "start_time": "2022-04-10T14:22:25.623912",
     "status": "completed"
    },
    "tags": []
   },
   "source": [
    "Before moving on, it is interesting to also study the correlation between the excess mortality and the course of the vaccination in each country, instead of the daily tests. Note that for this purpose we use the `total_vaccinations` feature instead of the `new_vaccinations` one, since vaccinations are a long-term measure. As a result, their efficiency cannot be imprinted on the number of daily vaccinations. For example, a country in which a high percentage of the population has been vaccinated (for example Israel) is expected to show small numbers of daily vaccinations, without this being an indication of an unvaccinated population."
   ]
  },
  {
   "cell_type": "code",
   "execution_count": 38,
   "id": "37077f15",
   "metadata": {
    "execution": {
     "iopub.execute_input": "2022-04-10T14:22:26.780485Z",
     "iopub.status.busy": "2022-04-10T14:22:26.779602Z",
     "iopub.status.idle": "2022-04-10T14:24:16.806656Z",
     "shell.execute_reply": "2022-04-10T14:24:16.805931Z",
     "shell.execute_reply.started": "2022-04-10T13:30:59.871819Z"
    },
    "papermill": {
     "duration": 110.441781,
     "end_time": "2022-04-10T14:24:16.806830",
     "exception": false,
     "start_time": "2022-04-10T14:22:26.365049",
     "status": "completed"
    },
    "tags": []
   },
   "outputs": [
    {
     "name": "stderr",
     "output_type": "stream",
     "text": [
      "                                                                                \r"
     ]
    }
   ],
   "source": [
    "country_dict = {}\n",
    "for country in countries_list:\n",
    "    filtered = df.filter(F.col('location') == country).filter(F.col('excess_mortality') != 0.0)\n",
    "    if filtered.count() > 5:\n",
    "        value = filtered.stat.corr(\"excess_mortality\", \"total_vaccinations\")\n",
    "    else:\n",
    "        value = np.nan\n",
    "    if not np.isnan(value):\n",
    "        country_dict[country] = value"
   ]
  },
  {
   "cell_type": "code",
   "execution_count": 39,
   "id": "ca867f1d",
   "metadata": {
    "execution": {
     "iopub.execute_input": "2022-04-10T14:24:17.549520Z",
     "iopub.status.busy": "2022-04-10T14:24:17.542796Z",
     "iopub.status.idle": "2022-04-10T14:24:17.555944Z",
     "shell.execute_reply": "2022-04-10T14:24:17.555326Z",
     "shell.execute_reply.started": "2022-04-10T13:30:59.873612Z"
    },
    "papermill": {
     "duration": 0.382358,
     "end_time": "2022-04-10T14:24:17.556094",
     "exception": false,
     "start_time": "2022-04-10T14:24:17.173736",
     "status": "completed"
    },
    "tags": []
   },
   "outputs": [
    {
     "name": "stdout",
     "output_type": "stream",
     "text": [
      "As far as the correlation between excess mortality and the course of the vaccinations is concerned:\n",
      "\n",
      "The ten countries with the highest correlation are:\n",
      "Croatia, with correlation equal to 0.937.\n",
      "Cyprus, with correlation equal to 0.694.\n",
      "Malta, with correlation equal to 0.667.\n",
      "Peru, with correlation equal to 0.584.\n",
      "Ecuador, with correlation equal to 0.410.\n",
      "Chile, with correlation equal to 0.410.\n",
      "Finland, with correlation equal to 0.380.\n",
      "Greece, with correlation equal to 0.246.\n",
      "Australia, with correlation equal to 0.215.\n",
      "Bulgaria, with correlation equal to 0.206.\n",
      "\n",
      "The ten countries with the lowest correlation are:\n",
      "Germany, with correlation equal to -0.986.\n",
      "United States, with correlation equal to -0.985.\n",
      "Switzerland, with correlation equal to -0.955.\n",
      "Denmark, with correlation equal to -0.952.\n",
      "Sweden, with correlation equal to -0.945.\n",
      "Belgium, with correlation equal to -0.925.\n",
      "Lithuania, with correlation equal to -0.921.\n",
      "Latvia, with correlation equal to -0.905.\n",
      "Canada, with correlation equal to -0.898.\n",
      "Slovenia, with correlation equal to -0.896.\n"
     ]
    }
   ],
   "source": [
    "country_dict = dict(sorted(country_dict.items(), reverse=True, key=lambda item: item[1]))\n",
    "print(\"As far as the correlation between excess mortality and the course of the vaccinations is concerned:\\n\")\n",
    "print(\"The ten countries with the highest correlation are:\")\n",
    "for i, ct in enumerate(country_dict):\n",
    "    if i == 10: break\n",
    "    print(f\"{ct}, with correlation equal to {country_dict[ct]:.3f}.\")\n",
    "country_dict = dict(sorted(country_dict.items(), reverse=False, key=lambda item: item[1]))\n",
    "print(\"\\nThe ten countries with the lowest correlation are:\")\n",
    "for i, ct in enumerate(country_dict):\n",
    "    if i == 10: break\n",
    "    print(f\"{ct}, with correlation equal to {country_dict[ct]:.3f}.\")"
   ]
  },
  {
   "cell_type": "markdown",
   "id": "939d9cb4",
   "metadata": {
    "papermill": {
     "duration": 0.371594,
     "end_time": "2022-04-10T14:24:18.295977",
     "exception": false,
     "start_time": "2022-04-10T14:24:17.924383",
     "status": "completed"
    },
    "tags": []
   },
   "source": [
    "In this case, most countries show a negative correlation (and more specifically close to -1), since the increase in total vaccinations is expected to lead to a reduction in excess mortality, as vaccinations have proven to prevent serious infections from Covid. However, there are still countries such as Cyprus or Croatia, where the correlation is positive. There, it's possible that vaccines became available for the general population during the studied time interval and as a result their efficiency on combating the pandemic has not yet been observed on large scales."
   ]
  },
  {
   "cell_type": "markdown",
   "id": "9b401696",
   "metadata": {
    "papermill": {
     "duration": 0.374845,
     "end_time": "2022-04-10T14:24:19.055307",
     "exception": false,
     "start_time": "2022-04-10T14:24:18.680462",
     "status": "completed"
    },
    "tags": []
   },
   "source": [
    "- **Covid and general health conditions on the country level**\n",
    "\n",
    "Another interesting aspect of excess mortality is how it correlates with the general health conditions of a country's population. For this reason, we will first calculate the mean value of the 'female_smokers', 'male_smokers', 'diabetes_prevalence' and 'cardiovasc_death_rate' features, using the data on the last available date of our filtered DataFrame. Then, we will sort all countries with respect to their excess mortality per million, since a normalization is required when comparing different countries (and hence different populations). Finally, we will compare the values of the aforementioned features for the top 5 and the bottom 5 countries with their calculated mean values."
   ]
  },
  {
   "cell_type": "code",
   "execution_count": 40,
   "id": "19e08b4c",
   "metadata": {
    "execution": {
     "iopub.execute_input": "2022-04-10T14:24:19.806133Z",
     "iopub.status.busy": "2022-04-10T14:24:19.805413Z",
     "iopub.status.idle": "2022-04-10T14:24:22.658311Z",
     "shell.execute_reply": "2022-04-10T14:24:22.656997Z",
     "shell.execute_reply.started": "2022-04-10T13:30:59.875168Z"
    },
    "papermill": {
     "duration": 3.231092,
     "end_time": "2022-04-10T14:24:22.658592",
     "exception": false,
     "start_time": "2022-04-10T14:24:19.427500",
     "status": "completed"
    },
    "tags": []
   },
   "outputs": [
    {
     "name": "stderr",
     "output_type": "stream",
     "text": [
      "                                                                                \r"
     ]
    },
    {
     "name": "stdout",
     "output_type": "stream",
     "text": [
      "Based on data up to 2021-02-28, the mean percentage of female smokers is 10.40%, while the corresponding number for male smokers is 32.69%.\n",
      "In addition, the mean percentage of people suffering from diabetes (aged 20-79) is 8.27%, while the mean number of deaths per 100.000 people due to cardiovascular conditions is 263.17.\n"
     ]
    }
   ],
   "source": [
    "this_day = dates_list[-1]\n",
    "filtered_df = df.filter(F.col('date') == this_day)\n",
    "\n",
    "mean_fem_smokers = filtered_df.filter(F.col('female_smokers') != 0.0).select(F.mean(F.col('female_smokers'))).collect()[0][0]\n",
    "mean_male_smokers = filtered_df.filter(F.col('male_smokers') != 0.0).select(F.mean(F.col('male_smokers'))).collect()[0][0]\n",
    "mean_diabetes = filtered_df.filter(F.col('diabetes_prevalence') != 0.0).select(F.mean(F.col('diabetes_prevalence'))).collect()[0][0]\n",
    "mean_card = filtered_df.filter(F.col('cardiovasc_death_rate') != 0.0).select(F.mean(F.col('cardiovasc_death_rate'))).collect()[0][0]\n",
    "\n",
    "print(f'Based on data up to {this_day}, the mean percentage of female smokers is {mean_fem_smokers:.2f}%, while the corresponding number for male smokers is {mean_male_smokers:.2f}%.')\n",
    "print(f'In addition, the mean percentage of people suffering from diabetes (aged 20-79) is {mean_diabetes:.2f}%, while the mean number of deaths per 100.000 people due to cardiovascular conditions is {mean_card:.2f}.')"
   ]
  },
  {
   "cell_type": "code",
   "execution_count": 41,
   "id": "4e3e4354",
   "metadata": {
    "execution": {
     "iopub.execute_input": "2022-04-10T14:24:23.427496Z",
     "iopub.status.busy": "2022-04-10T14:24:23.426557Z",
     "iopub.status.idle": "2022-04-10T14:24:25.040767Z",
     "shell.execute_reply": "2022-04-10T14:24:25.041282Z",
     "shell.execute_reply.started": "2022-04-10T13:30:59.877325Z"
    },
    "papermill": {
     "duration": 1.990308,
     "end_time": "2022-04-10T14:24:25.041461",
     "exception": false,
     "start_time": "2022-04-10T14:24:23.051153",
     "status": "completed"
    },
    "tags": []
   },
   "outputs": [
    {
     "name": "stderr",
     "output_type": "stream",
     "text": [
      "                                                                                \r"
     ]
    },
    {
     "data": {
      "text/html": [
       "<div>\n",
       "<style scoped>\n",
       "    .dataframe tbody tr th:only-of-type {\n",
       "        vertical-align: middle;\n",
       "    }\n",
       "\n",
       "    .dataframe tbody tr th {\n",
       "        vertical-align: top;\n",
       "    }\n",
       "\n",
       "    .dataframe thead th {\n",
       "        text-align: right;\n",
       "    }\n",
       "</style>\n",
       "<table border=\"1\" class=\"dataframe\">\n",
       "  <thead>\n",
       "    <tr style=\"text-align: right;\">\n",
       "      <th></th>\n",
       "      <th>location</th>\n",
       "      <th>excess_mortality_cumulative_per_million</th>\n",
       "      <th>female_smokers</th>\n",
       "      <th>male_smokers</th>\n",
       "      <th>diabetes_prevalence</th>\n",
       "      <th>cardiovasc_death_rate</th>\n",
       "    </tr>\n",
       "  </thead>\n",
       "  <tbody>\n",
       "    <tr>\n",
       "      <th>0</th>\n",
       "      <td>Armenia</td>\n",
       "      <td>3613.725554</td>\n",
       "      <td>1.5</td>\n",
       "      <td>52.1</td>\n",
       "      <td>7.11</td>\n",
       "      <td>341.010</td>\n",
       "    </tr>\n",
       "    <tr>\n",
       "      <th>1</th>\n",
       "      <td>Mexico</td>\n",
       "      <td>3437.694368</td>\n",
       "      <td>6.9</td>\n",
       "      <td>21.4</td>\n",
       "      <td>13.06</td>\n",
       "      <td>152.783</td>\n",
       "    </tr>\n",
       "    <tr>\n",
       "      <th>2</th>\n",
       "      <td>Belarus</td>\n",
       "      <td>3287.984465</td>\n",
       "      <td>10.5</td>\n",
       "      <td>46.1</td>\n",
       "      <td>5.18</td>\n",
       "      <td>443.129</td>\n",
       "    </tr>\n",
       "    <tr>\n",
       "      <th>3</th>\n",
       "      <td>Russia</td>\n",
       "      <td>3151.540865</td>\n",
       "      <td>23.4</td>\n",
       "      <td>58.3</td>\n",
       "      <td>6.18</td>\n",
       "      <td>431.297</td>\n",
       "    </tr>\n",
       "    <tr>\n",
       "      <th>4</th>\n",
       "      <td>Albania</td>\n",
       "      <td>2854.503445</td>\n",
       "      <td>7.1</td>\n",
       "      <td>51.2</td>\n",
       "      <td>10.08</td>\n",
       "      <td>304.195</td>\n",
       "    </tr>\n",
       "  </tbody>\n",
       "</table>\n",
       "</div>"
      ],
      "text/plain": [
       "  location  excess_mortality_cumulative_per_million  female_smokers  \\\n",
       "0  Armenia                              3613.725554             1.5   \n",
       "1   Mexico                              3437.694368             6.9   \n",
       "2  Belarus                              3287.984465            10.5   \n",
       "3   Russia                              3151.540865            23.4   \n",
       "4  Albania                              2854.503445             7.1   \n",
       "\n",
       "   male_smokers  diabetes_prevalence  cardiovasc_death_rate  \n",
       "0          52.1                 7.11                341.010  \n",
       "1          21.4                13.06                152.783  \n",
       "2          46.1                 5.18                443.129  \n",
       "3          58.3                 6.18                431.297  \n",
       "4          51.2                10.08                304.195  "
      ]
     },
     "execution_count": 41,
     "metadata": {},
     "output_type": "execute_result"
    }
   ],
   "source": [
    "filtered_df = filtered_df.filter(F.col('diabetes_prevalence') != 0.0).filter(F.col('cardiovasc_death_rate') != 0.0).filter(F.col('female_smokers') != 0.0).filter(F.col('male_smokers') != 0.0)\n",
    "filtered_df.orderBy(\"excess_mortality_cumulative_per_million\", ascending=False).select([\"location\", \"excess_mortality_cumulative_per_million\", \"female_smokers\", \"male_smokers\", \"diabetes_prevalence\", \"cardiovasc_death_rate\"]).toPandas().head(5)"
   ]
  },
  {
   "cell_type": "markdown",
   "id": "bbcb882d",
   "metadata": {
    "papermill": {
     "duration": 0.376288,
     "end_time": "2022-04-10T14:24:25.791784",
     "exception": false,
     "start_time": "2022-04-10T14:24:25.415496",
     "status": "completed"
    },
    "tags": []
   },
   "source": [
    "The table below depicts the divergence of these characteristics from their mean values for each of the top 5 countries with respect to excess mortality (per million). The red color is used for the entries which are higher than their corresponding mean value.\n",
    "\n",
    "| | Female Smokers (%) | Male Smokers (%) | Diabetic Population (%) | Cardiovascular-related Deaths per 100.000 (%) |\n",
    "| :-: | :-: | :-: | :-: | :-: |\n",
    "| **Armenia** | -85.58 | <font color='red'>59.38</font> | -12.87 | <font color='red'>29.17</font> |\n",
    "| **Mexico** | -33.65 | -34.54 | <font color='red'>60.05</font> | -42.14 |\n",
    "| **Belarus** | <font color='red'>0.96</font> | <font color='red'>41.02</font> | -36.52 | <font color='red'>67.82</font> |\n",
    "| **Russia** | <font color='red'>125</font> | <font color='red'>78.34</font> | -24.26 | <font color='red'>63.34</font> |\n",
    "| **Albania** | -31.73 | <font color='red'>56.62</font> | <font color='red'>23.53</font> | <font color='red'>15.20</font> |\n",
    "\n",
    "First and foremost, it's evident that all of the above countries have at least one of the mentioned features assume a value higher than it's mean. With the exception of Mexico, the countries with the highest excess mortality are characterized by numbers of cardiovascular related deaths that are higher compared to their mean value. The same countries also show significantly increased percentages of male smokers, which is definitely correlated to the number of deaths due to cardiovascular causes. The percentages of female smokers do not show the same tendency, excluding Russia, where the percentage of the divergence from the mean is higher than 100%. Finally, as far as the diabetic population is concerned, Mexico (for which we observed lower numbers with respect to the other features, compared to their mean values) has a value higher than the mean value by 60%."
   ]
  },
  {
   "cell_type": "code",
   "execution_count": 42,
   "id": "f2bd82fd",
   "metadata": {
    "execution": {
     "iopub.execute_input": "2022-04-10T14:24:26.555487Z",
     "iopub.status.busy": "2022-04-10T14:24:26.554767Z",
     "iopub.status.idle": "2022-04-10T14:24:27.945259Z",
     "shell.execute_reply": "2022-04-10T14:24:27.945752Z",
     "shell.execute_reply.started": "2022-04-10T13:30:59.879021Z"
    },
    "papermill": {
     "duration": 1.774411,
     "end_time": "2022-04-10T14:24:27.945947",
     "exception": false,
     "start_time": "2022-04-10T14:24:26.171536",
     "status": "completed"
    },
    "tags": []
   },
   "outputs": [
    {
     "name": "stderr",
     "output_type": "stream",
     "text": [
      "                                                                                \r"
     ]
    },
    {
     "data": {
      "text/html": [
       "<div>\n",
       "<style scoped>\n",
       "    .dataframe tbody tr th:only-of-type {\n",
       "        vertical-align: middle;\n",
       "    }\n",
       "\n",
       "    .dataframe tbody tr th {\n",
       "        vertical-align: top;\n",
       "    }\n",
       "\n",
       "    .dataframe thead th {\n",
       "        text-align: right;\n",
       "    }\n",
       "</style>\n",
       "<table border=\"1\" class=\"dataframe\">\n",
       "  <thead>\n",
       "    <tr style=\"text-align: right;\">\n",
       "      <th></th>\n",
       "      <th>location</th>\n",
       "      <th>excess_mortality_cumulative_per_million</th>\n",
       "      <th>female_smokers</th>\n",
       "      <th>male_smokers</th>\n",
       "      <th>diabetes_prevalence</th>\n",
       "      <th>cardiovasc_death_rate</th>\n",
       "    </tr>\n",
       "  </thead>\n",
       "  <tbody>\n",
       "    <tr>\n",
       "      <th>0</th>\n",
       "      <td>Seychelles</td>\n",
       "      <td>-1678.293398</td>\n",
       "      <td>7.1</td>\n",
       "      <td>35.7</td>\n",
       "      <td>10.55</td>\n",
       "      <td>242.648</td>\n",
       "    </tr>\n",
       "    <tr>\n",
       "      <th>1</th>\n",
       "      <td>Barbados</td>\n",
       "      <td>-832.093651</td>\n",
       "      <td>1.9</td>\n",
       "      <td>14.5</td>\n",
       "      <td>13.57</td>\n",
       "      <td>170.050</td>\n",
       "    </tr>\n",
       "    <tr>\n",
       "      <th>2</th>\n",
       "      <td>Uruguay</td>\n",
       "      <td>-682.380568</td>\n",
       "      <td>14.0</td>\n",
       "      <td>19.9</td>\n",
       "      <td>6.93</td>\n",
       "      <td>160.708</td>\n",
       "    </tr>\n",
       "    <tr>\n",
       "      <th>3</th>\n",
       "      <td>Mongolia</td>\n",
       "      <td>-605.836333</td>\n",
       "      <td>5.5</td>\n",
       "      <td>46.5</td>\n",
       "      <td>4.82</td>\n",
       "      <td>460.043</td>\n",
       "    </tr>\n",
       "    <tr>\n",
       "      <th>4</th>\n",
       "      <td>Malaysia</td>\n",
       "      <td>-465.227889</td>\n",
       "      <td>1.0</td>\n",
       "      <td>42.4</td>\n",
       "      <td>16.74</td>\n",
       "      <td>260.942</td>\n",
       "    </tr>\n",
       "  </tbody>\n",
       "</table>\n",
       "</div>"
      ],
      "text/plain": [
       "     location  excess_mortality_cumulative_per_million  female_smokers  \\\n",
       "0  Seychelles                             -1678.293398             7.1   \n",
       "1    Barbados                              -832.093651             1.9   \n",
       "2     Uruguay                              -682.380568            14.0   \n",
       "3    Mongolia                              -605.836333             5.5   \n",
       "4    Malaysia                              -465.227889             1.0   \n",
       "\n",
       "   male_smokers  diabetes_prevalence  cardiovasc_death_rate  \n",
       "0          35.7                10.55                242.648  \n",
       "1          14.5                13.57                170.050  \n",
       "2          19.9                 6.93                160.708  \n",
       "3          46.5                 4.82                460.043  \n",
       "4          42.4                16.74                260.942  "
      ]
     },
     "execution_count": 42,
     "metadata": {},
     "output_type": "execute_result"
    }
   ],
   "source": [
    "filtered_df.orderBy(\"excess_mortality_cumulative_per_million\", ascending=True).select([\"location\", \"excess_mortality_cumulative_per_million\", \"female_smokers\", \"male_smokers\", \"diabetes_prevalence\", \"cardiovasc_death_rate\"]).toPandas().head(5)"
   ]
  },
  {
   "cell_type": "markdown",
   "id": "94e1fe65",
   "metadata": {
    "papermill": {
     "duration": 0.405379,
     "end_time": "2022-04-10T14:24:28.724401",
     "exception": false,
     "start_time": "2022-04-10T14:24:28.319022",
     "status": "completed"
    },
    "tags": []
   },
   "source": [
    "Moving on to the bottom 5 countries as far as excess mortality is concerned, it is worth noting that the negative values in these cases is not because of a bug or missing data. On the contrary, it is because the reported numbers of deaths from these countries during the studied period were lower compared to their expected number, based on previous years' reports. A table similar to the one shown for the top 5 can be seen below.\n",
    "\n",
    "| | Female Smokers (%) | Male Smokers (%) | Diabetic Population (%) | Cardiovascular-related Deaths per 100.000 (%) |\n",
    "| :-: | :-: | :-: | :-: | :-: |\n",
    "| **Seychelles** | -31.73 | <font color='red'>9.21</font> | <font color='red'>29.29</font> | -8.11 |\n",
    "| **Barbados** | -81.73 | -55.64 | <font color='red'>66.30</font> | -35.60 |\n",
    "| **Uruguay** | <font color='red'>34.62</font> | -39.13 | -15.07 | -39.14 |\n",
    "| **Mongolia** | -47.12 | <font color='red'>42.25</font> | -40.93 | <font color='red'>74.21</font> |\n",
    "| **Malaysia** | -90.38 | <font color='red'>29.70</font> | <font color='red'>105.15</font> | -1.18 |\n",
    "\n",
    "In this case as well, all countries have at least 1 studied feature with value higher than the corresponding mean. Nonetheless, the most important issue that was present for the top 5 countries, i.e. the elevated numbers of death by cardiovascular causes, does not seem to appear in this case as well, with the exception of Mongolia. When it comes to the percentage of smokers, it appears significantly reduced for both sexes. In contrast to what was observed for the top 5 countries, the countries with the lowest excess mortality tend to have increased diabetic populations.\n",
    "\n",
    "Based on these, one could conclude that the excess mortality due to Covid can be connected to high percentages of smokers in the general population, as well as cardiovascular diseases. Similar conclusions cannot be drawn for the case of diabetes, which may be uncorrelated with deaths due to Covid. Of course, more extensive studies need to be performed in order to draw such conclusions safely, as well as more tests on target groups."
   ]
  },
  {
   "cell_type": "markdown",
   "id": "ad4155c5",
   "metadata": {
    "papermill": {
     "duration": 0.384169,
     "end_time": "2022-04-10T14:24:29.530503",
     "exception": false,
     "start_time": "2022-04-10T14:24:29.146334",
     "status": "completed"
    },
    "tags": []
   },
   "source": [
    "- **k-Means Clustering**\n",
    "\n",
    "Moving on to the final part of this EDA, we incorporate unsupervised learning methods, and more specifically k-Means clustering, in order to draw some additional information from our data. This is our final study on excess mortality and we intend to cluster countries together with respect to it, as well as the total number of cases - both normalized. This clustering will be performed on two different dates: the first and the final date present in our filtered DataFrame, in order to be able to see the evolution of the initial state. As previously done, we will only take into account countries with no missing values (i.e. zeroes) on excess mortality.\n",
    "\n",
    "As is always the case with k-Means clustering, the question that needs to be answered is \"what is the optimal value of k?\". While we could use methods such as the Elbow method to determine a good value for k, the purpose of this notebook is not an extensive study of clustering, but rather the presentation of a few basic methods for EDA using PySpark instead of widely used libraries such as Pandas or scikit-learn, for relatively small datasets. For this reason, we will simply create a scatterplot of the data and determine an optimal value for k through the visualization."
   ]
  },
  {
   "cell_type": "code",
   "execution_count": 43,
   "id": "d7d78291",
   "metadata": {
    "execution": {
     "iopub.execute_input": "2022-04-10T14:24:30.298254Z",
     "iopub.status.busy": "2022-04-10T14:24:30.297499Z",
     "iopub.status.idle": "2022-04-10T14:24:32.408693Z",
     "shell.execute_reply": "2022-04-10T14:24:32.409206Z",
     "shell.execute_reply.started": "2022-04-10T13:30:59.881430Z"
    },
    "papermill": {
     "duration": 2.502918,
     "end_time": "2022-04-10T14:24:32.409391",
     "exception": false,
     "start_time": "2022-04-10T14:24:29.906473",
     "status": "completed"
    },
    "tags": []
   },
   "outputs": [
    {
     "name": "stderr",
     "output_type": "stream",
     "text": [
      "                                                                                \r"
     ]
    },
    {
     "data": {
      "image/png": "[encoded data removed]",
      "text/plain": [
       "<Figure size 1200x500 with 2 Axes>"
      ]
     },
     "metadata": {},
     "output_type": "display_data"
    }
   ],
   "source": [
    "sns.set(style = \"darkgrid\")\n",
    "    \n",
    "fig, [ax1,ax2] = plt.subplots(1, 2, figsize=(12,5))\n",
    "\n",
    "for idx, (ax,this_day) in enumerate(zip([ax1,ax2],[exc_dates_list[0],exc_dates_list[-1]])):\n",
    "    \n",
    "    eff_df = df.filter(F.col('excess_mortality_cumulative_per_million') != 0.0).filter(F.col('date') == this_day).select(['total_cases_per_million','excess_mortality_cumulative_per_million','location'])\n",
    "\n",
    "    pdf = eff_df.select(['total_cases_per_million','excess_mortality_cumulative_per_million']).toPandas()\n",
    "\n",
    "    points = ax.scatter(pdf.total_cases_per_million, pdf.excess_mortality_cumulative_per_million,\n",
    "                                  color=mycol, alpha=0.5)\n",
    "\n",
    "    ax.set_title(f'Scatterplot of Countries as of {this_day}')\n",
    "    ax.set_xlabel('Total Cases per Million')\n",
    "    ax.set_ylabel('Excess Mortality (Cumulative) per Million')\n",
    "\n",
    "plt.show()\n",
    "\n",
    "matplotlib.rc_file_defaults()"
   ]
  },
  {
   "cell_type": "markdown",
   "id": "69d51ce7",
   "metadata": {
    "papermill": {
     "duration": 0.386468,
     "end_time": "2022-04-10T14:24:33.174420",
     "exception": false,
     "start_time": "2022-04-10T14:24:32.787952",
     "status": "completed"
    },
    "tags": []
   },
   "source": [
    "Even through this preliminary visualization we can extract a very important conclusion as far as the data themselves are concerned: the number of countries which report on excess mortality has increased by the end of February, since the second scatterplot includes more points.\n",
    "\n",
    "As far as the choice of k is concerned, i.e. the number of clusters to be taken into account, a reasonable hypothesis for the first date is k = 2: one cluster that includes the countries with fewer covid cases per million and one that includes the countries with more covid cases per million, since - with the exception of some outliers - it seems that the excess mortality is proportional to the number of total cases. On the other hand, things are somewhat more complex for the second date. We will be choosing k = 3 for this case, expecting to see the four countries with a very high number of cases (see the second scatterplot) in the same cluster."
   ]
  },
  {
   "cell_type": "code",
   "execution_count": 44,
   "id": "5891a6f4",
   "metadata": {
    "execution": {
     "iopub.execute_input": "2022-04-10T14:24:33.938866Z",
     "iopub.status.busy": "2022-04-10T14:24:33.937798Z",
     "iopub.status.idle": "2022-04-10T14:24:49.497445Z",
     "shell.execute_reply": "2022-04-10T14:24:49.498034Z",
     "shell.execute_reply.started": "2022-04-10T13:30:59.883656Z"
    },
    "papermill": {
     "duration": 15.940244,
     "end_time": "2022-04-10T14:24:49.498363",
     "exception": false,
     "start_time": "2022-04-10T14:24:33.558119",
     "status": "completed"
    },
    "tags": []
   },
   "outputs": [
    {
     "name": "stderr",
     "output_type": "stream",
     "text": [
      "                                                                                \r"
     ]
    },
    {
     "data": {
      "image/png": "[encoded data removed]",
      "text/plain": [
       "<Figure size 1400x500 with 2 Axes>"
      ]
     },
     "metadata": {},
     "output_type": "display_data"
    }
   ],
   "source": [
    "from pyspark.ml.clustering import KMeans\n",
    "\n",
    "sns.set(style = \"darkgrid\")\n",
    "\n",
    "numclusters = [2,3]\n",
    "colors = [mycol, mycomplcol, othercol1, othercol2, othercol3, othercol4]\n",
    "    \n",
    "fig, [ax1,ax2] = plt.subplots(1, 2, figsize=(14,5))\n",
    "\n",
    "for idx, (ax,this_day) in enumerate(zip([ax1,ax2],[exc_dates_list[0],exc_dates_list[-1]])):\n",
    "    \n",
    "    eff_df = df.filter(F.col('excess_mortality_cumulative_per_million') != 0.0).filter(F.col('date') == this_day).filter(F.col('date') == this_day).select(['total_cases_per_million','excess_mortality_cumulative_per_million','location'])\n",
    "\n",
    "    vectorAssembler = VectorAssembler(inputCols = ['total_cases_per_million','excess_mortality_cumulative_per_million'], outputCol = \"features\")\n",
    "    feat_df = vectorAssembler.transform(eff_df)\n",
    "    feat_df = feat_df.select(['features','location'])\n",
    "\n",
    "    kmeans = KMeans().setK(numclusters[idx]).setSeed(1).setFeaturesCol(\"features\").setPredictionCol(\"cluster\")\n",
    "    model = kmeans.fit(feat_df)\n",
    "    transformed = model.transform(feat_df)\n",
    "    centroids = model.clusterCenters()\n",
    "\n",
    "    transformed = transformed.join(eff_df, 'location')\n",
    "    \n",
    "    clusters, centers, images = {}, {}, {}\n",
    "\n",
    "    for i in range(numclusters[idx]):\n",
    "\n",
    "        clusters[i] = transformed.filter(F.col('cluster')==i).select(['location','cluster','total_cases_per_million',\n",
    "                                                              'excess_mortality_cumulative_per_million']).toPandas().set_index('location')\n",
    "\n",
    "        images[i] = ax.scatter(clusters[i].total_cases_per_million, clusters[i].excess_mortality_cumulative_per_million,\n",
    "                                  color=colors[i], alpha=0.5)\n",
    "        centers[i] = ax.scatter(centroids[i][0], centroids[i][1], color=colors[i], marker='x')\n",
    "\n",
    "    clusttuple = (images[i] for i in range(numclusters[idx]))\n",
    "    clustnames = ('Cluster '+str(i+1) for i in range(numclusters[idx]))\n",
    "\n",
    "    ax.legend(clusttuple, clustnames, loc='best')\n",
    "\n",
    "    ax.set_title(f'Clusters of Countries as of {this_day}')\n",
    "    ax.set_xlabel('Total Cases per Million')\n",
    "    ax.set_ylabel('Excess Mortality (Cumulative) per Million')\n",
    "\n",
    "plt.show()\n",
    "\n",
    "matplotlib.rc_file_defaults()"
   ]
  },
  {
   "cell_type": "markdown",
   "id": "0508fc54",
   "metadata": {
    "papermill": {
     "duration": 0.390062,
     "end_time": "2022-04-10T14:24:50.301951",
     "exception": false,
     "start_time": "2022-04-10T14:24:49.911889",
     "status": "completed"
    },
    "tags": []
   },
   "source": [
    "In all cases, different clusters are shown with different colors, with each cluster's centroid depicted with an `X`. As far as the first date (early January) is concerned, it is indeed observed that all countries are split into the two clusters in a way that is expected from the initial visualization. As far as the second date (late February) is concerned, it appears that the 4 countries with more than 100.000 total cases per million (> 10%) indeed belong into the same cluster. All of the countries in this cluster are:"
   ]
  },
  {
   "cell_type": "code",
   "execution_count": 45,
   "id": "3cddab7c",
   "metadata": {
    "execution": {
     "iopub.execute_input": "2022-04-10T14:24:51.076731Z",
     "iopub.status.busy": "2022-04-10T14:24:51.075919Z",
     "iopub.status.idle": "2022-04-10T14:24:51.084519Z",
     "shell.execute_reply": "2022-04-10T14:24:51.085150Z",
     "shell.execute_reply.started": "2022-04-10T13:30:59.885167Z"
    },
    "papermill": {
     "duration": 0.397344,
     "end_time": "2022-04-10T14:24:51.085388",
     "exception": false,
     "start_time": "2022-04-10T14:24:50.688044",
     "status": "completed"
    },
    "tags": []
   },
   "outputs": [
    {
     "name": "stdout",
     "output_type": "stream",
     "text": [
      "Albania, Armenia, Austria, Belarus, Bosnia and Herzegovina, Brazil, Bulgaria, Chile, Colombia, Croatia, Cyprus, Denmark, Estonia, France, Germany, Hungary, Ireland, Italy, Kosovo, Latvia, Lebanon, Malta, Moldova, Monaco, North Macedonia, Peru, Poland, Qatar, Romania, Russia, Ukraine, United Kingdom\n"
     ]
    }
   ],
   "source": [
    "print(*clusters[2].index, sep=', ')"
   ]
  },
  {
   "cell_type": "markdown",
   "id": "7087ea2f",
   "metadata": {
    "papermill": {
     "duration": 0.386457,
     "end_time": "2022-04-10T14:24:51.852335",
     "exception": false,
     "start_time": "2022-04-10T14:24:51.465878",
     "status": "completed"
    },
    "tags": []
   },
   "source": [
    "As far as the other two clusters are concerned, it appears that the clustering is based solely on the horizontal axis, i.e. the total number of cases per million. In the cluster with the centroid at ~53000 cases per million, 30 out of 39 countries are European countries. On the other hand, in the cluster with the centroid at ~13000 cases per million, there are countries from all over the world. Some of them are European, but under no circumstances do they correspond to the majority, as was the case in the other cluster."
   ]
  },
  {
   "cell_type": "markdown",
   "id": "680910aa",
   "metadata": {
    "papermill": {
     "duration": 0.377683,
     "end_time": "2022-04-10T14:24:52.611753",
     "exception": false,
     "start_time": "2022-04-10T14:24:52.234070",
     "status": "completed"
    },
    "tags": []
   },
   "source": [
    "Closing our investigation on clustering and the project itself, we perform the same steps in order to cluster countries with respect to the virus' reproduction rate and the countries' human development index."
   ]
  },
  {
   "cell_type": "code",
   "execution_count": 46,
   "id": "60943a34",
   "metadata": {
    "execution": {
     "iopub.execute_input": "2022-04-10T14:24:53.427462Z",
     "iopub.status.busy": "2022-04-10T14:24:53.406267Z",
     "iopub.status.idle": "2022-04-10T14:24:55.611908Z",
     "shell.execute_reply": "2022-04-10T14:24:55.611077Z",
     "shell.execute_reply.started": "2022-04-10T13:30:59.886828Z"
    },
    "papermill": {
     "duration": 2.61645,
     "end_time": "2022-04-10T14:24:55.612093",
     "exception": false,
     "start_time": "2022-04-10T14:24:52.995643",
     "status": "completed"
    },
    "tags": []
   },
   "outputs": [
    {
     "name": "stderr",
     "output_type": "stream",
     "text": [
      "                                                                                \r"
     ]
    },
    {
     "data": {
      "image/png": "[encoded data removed]",
      "text/plain": [
       "<Figure size 1400x500 with 2 Axes>"
      ]
     },
     "metadata": {},
     "output_type": "display_data"
    }
   ],
   "source": [
    "sns.set(style = \"darkgrid\")\n",
    "    \n",
    "fig, [ax1,ax2] = plt.subplots(1, 2, figsize=(14,5))\n",
    "\n",
    "for idx, (ax,this_day) in enumerate(zip([ax1,ax2],[dates_list[0],dates_list[-1]])):\n",
    "    \n",
    "    eff_df = df.filter(F.col('human_development_index') != 0.0).filter(F.col('reproduction_rate') != 0.0).filter(F.col('date') == this_day).select(['human_development_index','reproduction_rate','location'])\n",
    "\n",
    "    pdf = eff_df.select(['human_development_index','reproduction_rate']).toPandas()\n",
    "\n",
    "    points = ax.scatter(pdf.human_development_index, pdf.reproduction_rate, color=mycol, alpha=0.5)\n",
    "\n",
    "    ax.set_title(f'Scatterplot of Countries as of {this_day}')\n",
    "    ax.set_yticks([0.0,0.5,1.0,1.5,2.0])\n",
    "    ax.set_xlabel('Human Development Index')\n",
    "    ax.set_ylabel('Reproduction Rate')\n",
    "\n",
    "plt.show()\n",
    "\n",
    "matplotlib.rc_file_defaults()"
   ]
  },
  {
   "cell_type": "markdown",
   "id": "13f6dd2d",
   "metadata": {
    "papermill": {
     "duration": 0.399349,
     "end_time": "2022-04-10T14:24:56.409484",
     "exception": false,
     "start_time": "2022-04-10T14:24:56.010135",
     "status": "completed"
    },
    "tags": []
   },
   "source": [
    "In this case the number of studied countries seems to be constant in the two cases, unlike what we saw with excess mortality. Furthermore, especially in the final date, there seems to be a homogeneity as far as the reproduction rate is concerned. Before we move on with the clustering, we provide a .gif image (see [Appendix](#appendix) for the code) where the time evolution of the scatterplots is shown for all dates in our filtered DataFrame.\n",
    "\n",
    "<center> <img src=\"https://srigas.me/github/covid_scatterplots.gif\" width=420> </center>\n",
    "\n",
    "As expected, all changes happen only along the vertical axis, since the human development index of a country is not expected to change during such a short period of time. The countries seem to perform an overall oscillatory motion. In addition, during the first days of January there is a sizeable number of countries with a reproduction rate higher than 1.5, however from a point forward the oscillatory motion seems to be limited in the [0.5,1.5] window, in terms of reproduction rate.\n",
    "\n",
    "Moving on to the clustering for the first and the final day of the two-month period, k = 3 is chosen for both cases now, since tests performed using different numbers of k did not result into qualitatively interesting results."
   ]
  },
  {
   "cell_type": "code",
   "execution_count": 47,
   "id": "ca9e1d5b",
   "metadata": {
    "execution": {
     "iopub.execute_input": "2022-04-10T14:24:57.219445Z",
     "iopub.status.busy": "2022-04-10T14:24:57.213081Z",
     "iopub.status.idle": "2022-04-10T14:25:15.049171Z",
     "shell.execute_reply": "2022-04-10T14:25:15.049682Z",
     "shell.execute_reply.started": "2022-04-10T13:30:59.890398Z"
    },
    "papermill": {
     "duration": 18.250328,
     "end_time": "2022-04-10T14:25:15.049880",
     "exception": false,
     "start_time": "2022-04-10T14:24:56.799552",
     "status": "completed"
    },
    "tags": []
   },
   "outputs": [
    {
     "name": "stderr",
     "output_type": "stream",
     "text": [
      "                                                                                \r"
     ]
    },
    {
     "data": {
      "image/png": "[encoded data removed]",
      "text/plain": [
       "<Figure size 1400x500 with 2 Axes>"
      ]
     },
     "metadata": {},
     "output_type": "display_data"
    }
   ],
   "source": [
    "sns.set(style = \"darkgrid\")\n",
    "\n",
    "numclusters = [3,3]\n",
    "colors = [mycol, mycomplcol, othercol1, othercol2, othercol3, othercol4]\n",
    "    \n",
    "fig, [ax1,ax2] = plt.subplots(1, 2, figsize=(14,5))\n",
    "\n",
    "for idx, (ax,this_day) in enumerate(zip([ax1,ax2],[dates_list[0],dates_list[-1]])):\n",
    "    \n",
    "    eff_df = df.filter(F.col('human_development_index') != 0.0).filter(F.col('reproduction_rate') != 0.0).filter(F.col('date') == this_day).select(['human_development_index','reproduction_rate','location'])\n",
    "\n",
    "    vectorAssembler = VectorAssembler(inputCols = ['human_development_index','reproduction_rate'], outputCol = \"features\")\n",
    "    feat_df = vectorAssembler.transform(eff_df)\n",
    "    feat_df = feat_df.select(['features','location'])\n",
    "\n",
    "    kmeans = KMeans().setK(numclusters[idx]).setSeed(1).setFeaturesCol(\"features\").setPredictionCol(\"cluster\")\n",
    "    model = kmeans.fit(feat_df)\n",
    "    transformed = model.transform(feat_df)\n",
    "    centroids = model.clusterCenters()\n",
    "\n",
    "    transformed = transformed.join(eff_df, 'location')\n",
    "    \n",
    "    clusters, centers, images = {}, {}, {}\n",
    "\n",
    "    for i in range(numclusters[idx]):\n",
    "\n",
    "        clusters[i] = transformed.filter(F.col('cluster')==i).select(['location','cluster','reproduction_rate',\n",
    "                                                              'human_development_index']).toPandas().set_index('location')\n",
    "\n",
    "        images[i] = ax.scatter(clusters[i].human_development_index, clusters[i].reproduction_rate, color=colors[i], alpha=0.5)\n",
    "        centers[i] = ax.scatter(centroids[i][0], centroids[i][1], color=colors[i], marker='x')\n",
    "\n",
    "    clusttuple = (images[i] for i in range(numclusters[idx]))\n",
    "    clustnames = ('Cluster '+str(i+1) for i in range(numclusters[idx]))\n",
    "\n",
    "    ax.legend(clusttuple, clustnames, loc='best')\n",
    "\n",
    "    ax.set_title(f'Clusters of Countries as of {this_day}')\n",
    "    ax.set_yticks([0.0,0.5,1.0,1.5,2.0])\n",
    "    ax.set_xlabel('Human Development Index')\n",
    "    ax.set_ylabel('Reproduction Rate')\n",
    "\n",
    "plt.show()\n",
    "\n",
    "matplotlib.rc_file_defaults()"
   ]
  },
  {
   "cell_type": "markdown",
   "id": "fd94fb4f",
   "metadata": {
    "papermill": {
     "duration": 0.396365,
     "end_time": "2022-04-10T14:25:15.848729",
     "exception": false,
     "start_time": "2022-04-10T14:25:15.452364",
     "status": "completed"
    },
    "tags": []
   },
   "source": [
    "It's obvious that the k-Means clustering is performed with respect to the values of the vertical axis (reproduction rate). In both cases, one of the three clusters includes countries with a relatively small reproduction rate (less than 0.5), while the other two seem to split the countries using R = 1.0 as the decision boundary, as far as the reproduction rate is concerned.\n",
    "\n",
    "As previously stated, this clustering analysis needs to be more carefully performed, perhaps using clustering algorithms with a different principles (for example density-based methods, such as DBSCAN). Unfortunately, PySpark does not yet include such implementations, therefore this task would require the use of scikit-learn in collaboration with Pandas."
   ]
  },
  {
   "cell_type": "markdown",
   "id": "583d8849",
   "metadata": {
    "papermill": {
     "duration": 0.406312,
     "end_time": "2022-04-10T14:25:16.659937",
     "exception": false,
     "start_time": "2022-04-10T14:25:16.253625",
     "status": "completed"
    },
    "tags": []
   },
   "source": [
    "<a id='appendix'></a>\n",
    "\n",
    "## Appendix: Additional Code\n",
    "\n",
    "Below you can find the code used in order to extract the lollipop charts, as well as the scatterplots that were afterwards transformed into .gif files using Adobe Photoshop."
   ]
  },
  {
   "cell_type": "markdown",
   "id": "f9ebd75e",
   "metadata": {
    "papermill": {
     "duration": 0.404737,
     "end_time": "2022-04-10T14:25:17.473206",
     "exception": false,
     "start_time": "2022-04-10T14:25:17.068469",
     "status": "completed"
    },
    "tags": []
   },
   "source": [
    "#### Mortality Rate\n",
    "\n",
    "\n",
    "```\n",
    "sns.set(style = \"darkgrid\")\n",
    "for this_day in dates_list:\n",
    "    this_day_top_10 = df_for_mort.filter(F.col('date') == this_day).orderBy(\"mortality\", ascending=False).select([\"location\",\"mortality\"]).toPandas()\n",
    "\n",
    "    (markers, stemlines, baseline) = plt.stem(this_day_top_10[0:10]['mortality'])\n",
    "    plt.setp(markers, color=mycol)\n",
    "    plt.setp(stemlines, color=mycol)\n",
    "    plt.setp(baseline, visible=False)\n",
    "    \n",
    "    plt.xticks(range(10), this_day_top_10[0:10]['location'], rotation=45)\n",
    "    plt.title(f'COVID-19 Mortality Rate as of {this_day}', fontsize=14)\n",
    "    plt.savefig(f'lollipop_chart_cases_{this_day}.png', bbox_inches='tight')\n",
    "    plt.close()\n",
    "    \n",
    "matplotlib.rc_file_defaults()\n",
    "```"
   ]
  },
  {
   "cell_type": "markdown",
   "id": "e7674b3e",
   "metadata": {
    "papermill": {
     "duration": 0.407131,
     "end_time": "2022-04-10T14:25:18.284055",
     "exception": false,
     "start_time": "2022-04-10T14:25:17.876924",
     "status": "completed"
    },
    "tags": []
   },
   "source": [
    "#### Total Cases per Million\n",
    "\n",
    "\n",
    "```\n",
    "sns.set(style = \"darkgrid\")\n",
    "for this_day in dates_list:\n",
    "    this_day_top_10 = df.filter(F.col('date') == this_day).orderBy(\"total_cases_per_million\", ascending=False).select([\"location\",\"total_cases_per_million\"]).toPandas()\n",
    "\n",
    "    (markers, stemlines, baseline) = plt.stem(this_day_top_10[0:10]['total_cases_per_million'])\n",
    "    plt.setp(markers, color=mycol)\n",
    "    plt.setp(stemlines, color=mycol)\n",
    "    plt.setp(baseline, visible=False)\n",
    "\n",
    "    plt.xticks(range(10), this_day_top_10[0:10]['location'], rotation=45)\n",
    "    plt.title(f'Total COVID-19 cases per million as of {this_day}', fontsize=14)\n",
    "    plt.savefig(f'lollipop_chart_cases_{this_day}.png', bbox_inches='tight')\n",
    "    plt.close()\n",
    "    \n",
    "matplotlib.rc_file_defaults()\n",
    "```"
   ]
  },
  {
   "cell_type": "markdown",
   "id": "228b9637",
   "metadata": {
    "papermill": {
     "duration": 0.41454,
     "end_time": "2022-04-10T14:25:19.102882",
     "exception": false,
     "start_time": "2022-04-10T14:25:18.688342",
     "status": "completed"
    },
    "tags": []
   },
   "source": [
    "#### Total Deaths per Million\n",
    "\n",
    "```\n",
    "sns.set(style = \"darkgrid\")\n",
    "for this_day in dates_list:\n",
    "    this_day_top_10 = df.filter(F.col('date') == this_day).orderBy(\"total_deaths_per_million\", ascending=False).select([\"location\",\"total_deaths_per_million\"]).toPandas()\n",
    "\n",
    "    (markers, stemlines, baseline) = plt.stem(this_day_top_10[0:10]['total_deaths_per_million'])\n",
    "    plt.setp(markers, color=mycol)\n",
    "    plt.setp(stemlines, color=mycol)\n",
    "    plt.setp(baseline, visible=False)\n",
    "\n",
    "    plt.xticks(range(10), this_day_top_10[0:10]['location'], rotation=45)\n",
    "    plt.title(f'Total COVID-19 deaths per million as of {this_day}', fontsize=14)\n",
    "    plt.savefig(f'lollipop_chart_deaths_{this_day}.png', bbox_inches='tight')\n",
    "    plt.close()\n",
    "    \n",
    "matplotlib.rc_file_defaults()\n",
    "```"
   ]
  },
  {
   "cell_type": "markdown",
   "id": "b0ba92fe",
   "metadata": {
    "papermill": {
     "duration": 0.402978,
     "end_time": "2022-04-10T14:25:19.915940",
     "exception": false,
     "start_time": "2022-04-10T14:25:19.512962",
     "status": "completed"
    },
    "tags": []
   },
   "source": [
    "#### Human Development Index vs Reproduction Rate\n",
    "\n",
    "```\n",
    "sns.set(style = \"darkgrid\")\n",
    "\n",
    "for this_day in dates_list:\n",
    "\n",
    "    fig, ax = plt.subplots(1, 1)\n",
    "    \n",
    "    eff_df = df.filter(F.col('human_development_index') != 0.0).filter(F.col('reproduction_rate') != 0.0).filter(F.col('date') == this_day).select(['human_development_index','reproduction_rate','location'])\n",
    "    pdf = eff_df.select(['human_development_index','reproduction_rate']).toPandas()\n",
    "    points = ax.scatter(pdf.human_development_index, pdf.reproduction_rate, color=mycol, alpha=0.5)\n",
    "\n",
    "    ax.set_title(f'Scatterplot of Countries as of {this_day}')\n",
    "    ax.set_yticks([0.0,0.5,1.0,1.5,2.0])\n",
    "    ax.set_xlabel('Human Development Index')\n",
    "    ax.set_ylabel('Reproduction Rate')\n",
    "    \n",
    "    plt.savefig(f'hdi_{this_day}.png', bbox_inches='tight')\n",
    "    plt.close(fig)\n",
    "\n",
    "matplotlib.rc_file_defaults()\n",
    "```"
   ]
  }
 ],
 "metadata": {
  "kernelspec": {
   "display_name": "Python 3",
   "language": "python",
   "name": "python3"
  },
  "language_info": {
   "codemirror_mode": {
    "name": "ipython",
    "version": 3
   },
   "file_extension": ".py",
   "mimetype": "text/x-python",
   "name": "python",
   "nbconvert_exporter": "python",
   "pygments_lexer": "ipython3",
   "version": "3.7.10"
  },
  "papermill": {
   "default_parameters": {},
   "duration": 1450.193693,
   "end_time": "2022-04-10T14:25:23.039873",
   "environment_variables": {},
   "exception": null,
   "input_path": "__notebook__.ipynb",
   "output_path": "__notebook__.ipynb",
   "parameters": {},
   "start_time": "2022-04-10T14:01:12.846180",
   "version": "2.3.3"
  }
 },
 "nbformat": 4,
 "nbformat_minor": 5
}
